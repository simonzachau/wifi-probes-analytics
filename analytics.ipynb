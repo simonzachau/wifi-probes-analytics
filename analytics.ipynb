{
 "cells": [
  {
   "cell_type": "markdown",
   "metadata": {},
   "source": [
    "---\n",
    "\n",
    "**Assignment 3: Mobility Tracking (Connected Mobility Basics, Winter 2019/20)**\n",
    "\n",
    "Felix Schorer | Haoyang Sun | Simon Zachau\n",
    "\n",
    "---"
   ]
  },
  {
   "cell_type": "markdown",
   "metadata": {
    "pycharm": {
     "name": "#%% md\n"
    }
   },
   "source": [
    "<strong id=\"tocheading\">Table of Contents</strong>\n",
    "\n",
    "<div id=\"toc\"></div>"
   ]
  },
  {
   "cell_type": "code",
   "execution_count": null,
   "metadata": {
    "pycharm": {
     "name": "#%%\n"
    }
   },
   "outputs": [],
   "source": [
    "%%javascript\n",
    "// adapted from https://github.com/kmahelona/ipython_notebook_goodies/blob/gh-pages/ipython_notebook_toc.js\n",
    "var toc = \"\";\n",
    "var level = 0;\n",
    "var levels = {}\n",
    "$('#toc').html('');\n",
    "\n",
    "$(\":header\").each(function(i){\n",
    "    var titleText = this.innerHTML;\n",
    "    var openLevel = this.tagName[1];\n",
    "\n",
    "    if (levels[openLevel]){\n",
    "        levels[openLevel] += 1;\n",
    "    } else{\n",
    "        levels[openLevel] = 1;\n",
    "    }\n",
    "\n",
    "    if (openLevel > level) {\n",
    "        toc += (new Array(openLevel - level + 1)).join('<ul class=\"toc\">');\n",
    "    } else if (openLevel < level) {\n",
    "        toc += (new Array(level - openLevel + 1)).join(\"</ul>\");\n",
    "        for (i=level;i>openLevel;i--){\n",
    "            levels[i]=0;\n",
    "        }\n",
    "    }\n",
    "\n",
    "    level = parseInt(openLevel);\n",
    "    \n",
    "    if (level < 3) {\n",
    "        if (this.id == ''){\n",
    "            this.id = this.innerHTML.replace(/ /g,\"-\")\n",
    "        }\n",
    "        var anchor = this.id;\n",
    "\n",
    "        toc += '<li><a href=\"#' + encodeURIComponent(anchor) + '\">' + titleText + '</a></li>';\n",
    "    }\n",
    "\n",
    "});\n",
    "\n",
    "\n",
    "if (level) {\n",
    "    toc += (new Array(level + 1)).join(\"</ul>\");\n",
    "}\n",
    "\n",
    "\n",
    "$('#toc').append(toc);"
   ]
  },
  {
   "cell_type": "markdown",
   "metadata": {},
   "source": [
    "---"
   ]
  },
  {
   "cell_type": "code",
   "execution_count": null,
   "metadata": {
    "pycharm": {
     "is_executing": false,
     "name": "#%%\n"
    },
    "scrolled": false
   },
   "outputs": [],
   "source": [
    "%pip install numpy matplotlib scapy[basic] tqdm tabulate"
   ]
  },
  {
   "cell_type": "markdown",
   "metadata": {},
   "source": [
    "# 1. Introduction\n",
    "\n",
    "We collected Wifi probes with a Raspberry Pi and 2 antennas on different commutes around Munich to analyse them. \n",
    "Specifically, we look at the number of packets and their MAC addresses relative to time, and therefore also location. \n",
    "In the beginning, we asked ourselves if we could track devices over multiple days during the time of a route \n",
    "and if we can we infer from the data when the train/subway stops."
   ]
  },
  {
   "cell_type": "markdown",
   "metadata": {
    "pycharm": {
     "name": "#%% md\n"
    }
   },
   "source": [
    "# 2. Routes"
   ]
  },
  {
   "cell_type": "code",
   "execution_count": null,
   "metadata": {
    "pycharm": {
     "is_executing": false,
     "name": "#%%\n"
    },
    "scrolled": false
   },
   "outputs": [],
   "source": [
    "from tabulate import tabulate\n",
    "\n",
    "\n",
    "def list_captures(*captures):\n",
    "    print(tabulate(captures, headers=('File', 'Description', 'Start Date/Time')))"
   ]
  },
  {
   "cell_type": "markdown",
   "metadata": {
    "pycharm": {
     "name": "#%% md\n"
    }
   },
   "source": [
    "## 2.1 Route from Kaufering to Garching Forschungszentrum\n",
    "\n",
    "We measured the route from Kaufering to Garching Forschungszentrum on 3 different days each before Christmas and after Christmas. \n",
    "It involves the train until Munich Central Station, the S-Bahn from Munich Central Station to Marienplatz, \n",
    "and the U6 from Marienplatz to Garching Forschungszentrum. The fact that our measurements involve multiple days, \n",
    "but are conducted at 7:00 AM consistently every morning, gives us the chance to compare the results.\n",
    "\n",
    "![route from Kaufering to Garching Forschungszentrum](./illustrations/kaufering_garchingforschungzentrum.png)"
   ]
  },
  {
   "cell_type": "code",
   "execution_count": null,
   "metadata": {
    "pycharm": {
     "is_executing": false,
     "name": "#%%\n"
    },
    "scrolled": false
   },
   "outputs": [],
   "source": [
    "from captures import commutes\n",
    "\n",
    "list_captures(*commutes)"
   ]
  },
  {
   "cell_type": "markdown",
   "metadata": {
    "pycharm": {
     "name": "#%% md\n"
    }
   },
   "source": [
    "## 2.2 Round Trip Routes of U2 and U6\n",
    "\n",
    "On the 19th of December we measured 1 round trip in each the U2 and the U6 at noon. \n",
    "Both lines meet in the city center but cross different areas of Munich. \n",
    "Different demographics and destinations might enable different observations.\n",
    "The U2 round trip was measured in two files (stopped at the first destination), whereas \n",
    "the U6 round trip was measured in one file. We make them comparable in the preprocessing\n",
    "section \"3.2 Stitching U2 Time Series Together\".\n",
    "\n",
    "![route of U2 and U6](./illustrations/u2u6.png)"
   ]
  },
  {
   "cell_type": "code",
   "execution_count": null,
   "metadata": {
    "pycharm": {
     "is_executing": false,
     "name": "#%%\n"
    },
    "scrolled": false
   },
   "outputs": [],
   "source": [
    "from captures import u2_to_messestadt, u2_to_feldmoching, u6_roundtrip\n",
    "\n",
    "list_captures(u2_to_messestadt, u2_to_feldmoching, u6_roundtrip)"
   ]
  },
  {
   "cell_type": "markdown",
   "metadata": {
    "pycharm": {
     "name": "#%% md\n"
    }
   },
   "source": [
    "## 2.3 Route from Munich Central Station to Dortmund Central Station\n",
    "\n",
    "On the 24th of December we measured a trip in the ICE from Munich Central Station to Dortmund Central Station. \n",
    "We might be able to analyse different devices and device usages compared to subway lines in the city center.\n",
    "\n",
    "![route from Munich Central Station to Dortmund Central Station](./illustrations/munich_dortmund.png)"
   ]
  },
  {
   "cell_type": "code",
   "execution_count": null,
   "metadata": {
    "pycharm": {
     "is_executing": false,
     "name": "#%%\n"
    },
    "scrolled": false
   },
   "outputs": [],
   "source": [
    "from captures import munich_to_dortmund\n",
    "\n",
    "list_captures(munich_to_dortmund)"
   ]
  },
  {
   "cell_type": "markdown",
   "metadata": {
    "pycharm": {
     "name": "#%% md\n"
    }
   },
   "source": [
    "# 3. Preprocessing\n",
    "\n",
    "## 3.1 Parsing Captures"
   ]
  },
  {
   "cell_type": "code",
   "execution_count": null,
   "metadata": {
    "pycharm": {
     "is_executing": false,
     "name": "#%%\n"
    },
    "scrolled": false
   },
   "outputs": [],
   "source": [
    "import numpy as np\n",
    "from tqdm import tqdm\n",
    "from scapy.all import PcapReader\n",
    "from scapy.layers.dot11 import Dot11ProbeReq\n",
    "\n",
    "\n",
    "def parse_mac_from_string(mac):\n",
    "    return bytes.fromhex(mac.replace(':', ''))\n",
    "\n",
    "\n",
    "def accumulate(file, *accumulators):\n",
    "    with PcapReader(file) as reader, tqdm(unit='packets', desc=file) as pbar:\n",
    "        for packet in reader:\n",
    "            for accumulator in accumulators:\n",
    "                accumulator(packet)\n",
    "            pbar.update()\n",
    "\n",
    "\n",
    "class TimeSeriesAccumulator(list):\n",
    "    TYPE = ('timestamp', np.float), ('mac', np.bytes_, 6)\n",
    "    \n",
    "    def __call__(self, packet):\n",
    "        if packet.haslayer(Dot11ProbeReq):\n",
    "            timestamp = packet.time\n",
    "            mac = parse_mac_from_string(packet.addr2)\n",
    "            self.append((timestamp, mac))\n",
    "            \n",
    "    def as_numpy_array(self):\n",
    "        return np.array(self, dtype=np.dtype([*self.TYPE]))"
   ]
  },
  {
   "cell_type": "code",
   "execution_count": null,
   "metadata": {
    "pycharm": {
     "is_executing": false,
     "name": "#%%\n"
    },
    "scrolled": false
   },
   "outputs": [],
   "source": [
    "from captures import all_captures\n",
    "\n",
    "time_series_data = dict()  # capture -> time series data\n",
    "\n",
    "for capture in all_captures:\n",
    "    accumulator = TimeSeriesAccumulator()\n",
    "    accumulate(capture.filename, accumulator)    \n",
    "    time_series_data[capture] = accumulator.as_numpy_array()"
   ]
  },
  {
   "cell_type": "markdown",
   "metadata": {},
   "source": [
    "## 3.2 Fixing timestamps"
   ]
  },
  {
   "cell_type": "code",
   "execution_count": null,
   "metadata": {},
   "outputs": [],
   "source": [
    "for capture, time_series in time_series_data.items():\n",
    "    # timestamps in captures are relative, make them absolute\n",
    "    timestamp_0 = np.amin(time_series[:]['timestamp'])\n",
    "    correction = capture.start_date.timestamp() - timestamp_0\n",
    "    time_series[:]['timestamp'] += correction"
   ]
  },
  {
   "cell_type": "markdown",
   "metadata": {},
   "source": [
    "## 3.3 Anonymizing MAC addresses"
   ]
  },
  {
   "cell_type": "code",
   "execution_count": null,
   "metadata": {},
   "outputs": [],
   "source": [
    "import struct\n",
    "\n",
    "device_id_anonymization_table = dict()  # device id -> anonymized device id\n",
    "\n",
    "\n",
    "@np.vectorize\n",
    "def anonymize_mac(mac):\n",
    "    vendor_id, device_id = mac[:3], mac[3:]\n",
    "    if device_id in device_id_anonymization_table:\n",
    "        return vendor_id + device_id_anonymization_table[device_id]\n",
    "    else:\n",
    "        anonymized_device_id = struct.pack('!I', len(device_id_anonymization_table))[-3:]\n",
    "        device_id_anonymization_table[device_id] = anonymized_device_id\n",
    "        return vendor_id + anonymized_device_id\n",
    "    \n",
    "\n",
    "for time_series in time_series_data.values():\n",
    "    time_series[:]['mac'] = anonymize_mac(time_series[:]['mac'])"
   ]
  },
  {
   "cell_type": "markdown",
   "metadata": {
    "pycharm": {
     "name": "#%% md\n"
    }
   },
   "source": [
    "## 3.4 Stitching U2 Time Series Together"
   ]
  },
  {
   "cell_type": "code",
   "execution_count": null,
   "metadata": {
    "pycharm": {
     "is_executing": false,
     "name": "#%%\n"
    },
    "scrolled": false
   },
   "outputs": [],
   "source": [
    "from captures import Capture\n",
    "\n",
    "u2_roundtrip = Capture(\n",
    "    filename=None, \n",
    "    description='U2 round trip Feldmoching/Messestadt Ost',\n",
    "    start_date=u2_to_messestadt.start_date\n",
    ")\n",
    "\n",
    "time_series_data[u2_roundtrip] = np.append(time_series_data[u2_to_messestadt], time_series_data[u2_to_feldmoching])"
   ]
  },
  {
   "cell_type": "markdown",
   "metadata": {
    "pycharm": {
     "name": "#%% md\n"
    }
   },
   "source": [
    "# 4. Analysis"
   ]
  },
  {
   "cell_type": "code",
   "execution_count": null,
   "metadata": {
    "pycharm": {
     "is_executing": false,
     "name": "#%%\n"
    },
    "scrolled": false
   },
   "outputs": [],
   "source": [
    "%matplotlib inline\n",
    "\n",
    "import matplotlib.pyplot as plt\n",
    "from captures import make_legend\n",
    "\n",
    "\n",
    "def plot_line_chart(*data, x_label=None, y_label=None, title=None, x_scale='linear', y_scale='linear'):\n",
    "    plt.figure(figsize=(18, 6))\n",
    "    legends = []\n",
    "    for xs, ys, legend in data:\n",
    "        plt.plot(xs, ys)\n",
    "        legends.append(legend)\n",
    "    plt.xlabel(x_label)\n",
    "    plt.ylabel(y_label)\n",
    "    plt.xscale(x_scale)\n",
    "    plt.yscale(y_scale)\n",
    "    plt.title(title)\n",
    "    plt.legend(legends)\n",
    "    \n",
    "\n",
    "def plot_stack_plot(data, x_label=None, y_label=None, title=None, x_scale='linear', y_scale='linear'):\n",
    "    plt.figure(figsize=(18, 6))\n",
    "    xs, yss, labels = data\n",
    "    plt.stackplot(xs, yss, labels=labels)\n",
    "    plt.xlabel(x_label)\n",
    "    plt.ylabel(y_label)\n",
    "    plt.xscale(x_scale)\n",
    "    plt.yscale(y_scale)\n",
    "    plt.title(title)\n",
    "    plt.legend(loc='lower left')"
   ]
  },
  {
   "cell_type": "markdown",
   "metadata": {
    "pycharm": {
     "name": "#%% md\n"
    }
   },
   "source": [
    "## 4.1 Number of Probes Per Time Interval"
   ]
  },
  {
   "cell_type": "code",
   "execution_count": null,
   "metadata": {
    "pycharm": {
     "is_executing": false,
     "name": "#%%\n"
    },
    "scrolled": false
   },
   "outputs": [],
   "source": [
    "import math\n",
    "\n",
    "\n",
    "def duration(timestamps):\n",
    "    return np.amax(timestamps) - np.amin(timestamps)\n",
    "\n",
    "\n",
    "def frequency_count(timestamps, time_interval):\n",
    "    number_of_intervals = math.ceil(duration(timestamps) / time_interval)\n",
    "    counts = np.zeros(number_of_intervals)\n",
    "    rel_timestamps = timestamps - np.amin(timestamps)\n",
    "    for timestamp in rel_timestamps:\n",
    "        counts[math.floor(timestamp / time_interval)] += 1\n",
    "    time = np.arange(0, len(counts) * time_interval, time_interval)\n",
    "    return time, counts"
   ]
  },
  {
   "cell_type": "code",
   "execution_count": null,
   "metadata": {
    "pycharm": {
     "is_executing": false,
     "name": "#%%\n"
    },
    "scrolled": false
   },
   "outputs": [],
   "source": [
    "TIME_INTERVAL = 120\n",
    "\n",
    "\n",
    "def plot_frequency_counts(*captures, time_interval=TIME_INTERVAL):\n",
    "    plots = []\n",
    "\n",
    "    for capture in captures:\n",
    "        timestamps = time_series_data[capture][:]['timestamp']\n",
    "        xs, ys = frequency_count(timestamps, time_interval)\n",
    "        plots.append((xs, ys, make_legend(capture)))\n",
    "\n",
    "    plot_line_chart(*plots, x_label='time (s)', y_label='number of probes per {}s'.format(time_interval))"
   ]
  },
  {
   "cell_type": "markdown",
   "metadata": {},
   "source": [
    "### Route from Kaufering to Garching Forschungszentrum"
   ]
  },
  {
   "cell_type": "code",
   "execution_count": null,
   "metadata": {
    "pycharm": {
     "is_executing": false,
     "name": "#%%\n"
    },
    "scrolled": false
   },
   "outputs": [],
   "source": [
    "plot_frequency_counts(*commutes)"
   ]
  },
  {
   "cell_type": "markdown",
   "metadata": {},
   "source": [
    "#### Observations\n",
    "- The trip on 12/18/2019 (green line) ends early due to the battery running out.\n",
    "- The change in the number of packets is consistent in relative terms.\n",
    "- The number of packets per 120s starts at about 500 in Kaufering, grows until Central Station until it reaches 2000 packets per 120s, peaks multiple times around the city center, and decreases until the destination Garching Forschungszentrum."
   ]
  },
  {
   "cell_type": "markdown",
   "metadata": {
    "pycharm": {
     "name": "#%% md\n"
    }
   },
   "source": [
    "### Round Trip Routes of U2 and U6"
   ]
  },
  {
   "cell_type": "code",
   "execution_count": null,
   "metadata": {
    "pycharm": {
     "is_executing": false,
     "name": "#%%\n"
    },
    "scrolled": false
   },
   "outputs": [],
   "source": [
    "plot_frequency_counts(u2_roundtrip, u6_roundtrip)"
   ]
  },
  {
   "cell_type": "markdown",
   "metadata": {},
   "source": [
    "#### Observations\n",
    "Todo"
   ]
  },
  {
   "cell_type": "markdown",
   "metadata": {
    "pycharm": {
     "name": "#%% md\n"
    }
   },
   "source": [
    "### Route from Munich Central Station to Dortmund Central Station"
   ]
  },
  {
   "cell_type": "code",
   "execution_count": null,
   "metadata": {
    "pycharm": {
     "is_executing": false,
     "name": "#%%\n"
    },
    "scrolled": false
   },
   "outputs": [],
   "source": [
    "plot_frequency_counts(munich_to_dortmund)"
   ]
  },
  {
   "cell_type": "markdown",
   "metadata": {
    "pycharm": {
     "name": "#%% md\n"
    }
   },
   "source": [
    "#### Observations\n",
    "Todo"
   ]
  },
  {
   "cell_type": "markdown",
   "metadata": {},
   "source": [
    "## 4.2 Inter-Contact Times of Mac Addresses"
   ]
  },
  {
   "cell_type": "code",
   "execution_count": null,
   "metadata": {
    "pycharm": {
     "is_executing": false,
     "name": "#%%\n"
    },
    "scrolled": false
   },
   "outputs": [],
   "source": [
    "from collections import defaultdict\n",
    "\n",
    "\n",
    "def compute_inter_contact_times(probes):\n",
    "    min_max_timestamps = defaultdict(tuple)  # mac -> min, max timestamp\n",
    "    for probe in probes:\n",
    "        current_min_max = min_max_timestamps[probe['mac']]\n",
    "        min_timestamp = min([*current_min_max, probe['timestamp']])\n",
    "        max_timestamp = max([*current_min_max, probe['timestamp']])\n",
    "        min_max_timestamps[probe['mac']] = min_timestamp, max_timestamp\n",
    "    return sorted(max_timestamp - min_timestamp for min_timestamp, max_timestamp in min_max_timestamps.values())\n",
    "\n",
    "\n",
    "def compute_cdf(values):\n",
    "    total = len(values)\n",
    "    accumulator = 0\n",
    "    ys, xs = [], []\n",
    "    current_value = None\n",
    "    for value in values:\n",
    "        if current_value != value and current_value is not None:\n",
    "            ys.append(accumulator)\n",
    "            xs.append(current_value)\n",
    "        current_value = value\n",
    "        accumulator += 1 / total\n",
    "    return xs, ys"
   ]
  },
  {
   "cell_type": "code",
   "execution_count": null,
   "metadata": {
    "pycharm": {
     "is_executing": false
    },
    "scrolled": false
   },
   "outputs": [],
   "source": [
    "def plot_inter_contact_times(*captures):\n",
    "    plots = []\n",
    "\n",
    "    for capture in captures:\n",
    "        inter_contact_times = compute_inter_contact_times(time_series_data[capture])\n",
    "        xs, ys = compute_cdf(inter_contact_times)\n",
    "        plots.append((xs, ys, make_legend(capture)))\n",
    "    \n",
    "    plot_line_chart(*plots, x_label='time (s)', y_label='per cent', x_scale='log')"
   ]
  },
  {
   "cell_type": "code",
   "execution_count": null,
   "metadata": {
    "pycharm": {
     "is_executing": false,
     "name": "#%%\n"
    },
    "scrolled": false
   },
   "outputs": [],
   "source": [
    "plot_inter_contact_times(*commutes, u2_roundtrip, u6_roundtrip, munich_to_dortmund)"
   ]
  },
  {
   "cell_type": "markdown",
   "metadata": {
    "pycharm": {
     "name": "#%% md\n"
    }
   },
   "source": [
    "#### Observations\n",
    "- Almost 90% of MAC addresses are seen for less than 0.1 seconds.\n",
    " - Probably due to MAC address randomization"
   ]
  },
  {
   "cell_type": "markdown",
   "metadata": {
    "pycharm": {
     "name": "#%% md\n"
    }
   },
   "source": [
    "## 4.3 Vendors"
   ]
  },
  {
   "cell_type": "code",
   "execution_count": null,
   "metadata": {
    "pycharm": {
     "is_executing": false,
     "name": "#%%\n"
    },
    "scrolled": false
   },
   "outputs": [],
   "source": [
    "!wget http://standards-oui.ieee.org/oui/oui.csv"
   ]
  },
  {
   "cell_type": "code",
   "execution_count": null,
   "metadata": {
    "pycharm": {
     "is_executing": false,
     "name": "#%%\n"
    },
    "scrolled": false
   },
   "outputs": [],
   "source": [
    "import csv\n",
    "\n",
    "\n",
    "with open('oui.csv', 'r') as file:\n",
    "    reader = csv.reader(file)\n",
    "    header = next(reader)\n",
    "    vendors = {bytes.fromhex(row[1]): row[2] for row in reader}\n",
    "\n",
    "\n",
    "def lookup_vendor(mac):\n",
    "    return vendors.get(mac[:3], '<randomized>')"
   ]
  },
  {
   "cell_type": "code",
   "execution_count": null,
   "metadata": {
    "pycharm": {
     "is_executing": false,
     "name": "#%%\n"
    },
    "scrolled": false
   },
   "outputs": [],
   "source": [
    "from collections import Counter\n",
    "\n",
    "\n",
    "def vendor_frequency_count(probes, time_interval, top=10):\n",
    "    total = Counter(lookup_vendor(mac) for mac in probes[:]['mac'])\n",
    "    ranks = {vendor: index for index, (vendor, _) in enumerate(total.most_common(top))}\n",
    "    \n",
    "    timestamps = probes[:]['timestamp']\n",
    "    number_of_intervals = math.ceil(duration(timestamps) / time_interval)\n",
    "    counts = np.zeros((top + 1, number_of_intervals))\n",
    "    min_timestamp = np.amin(timestamps)\n",
    "    for probe in probes:\n",
    "        vendor = lookup_vendor(probe['mac'])\n",
    "        rank = ranks.get(vendor, top)\n",
    "        rel_timestamp = probe['timestamp'] - min_timestamp\n",
    "        counts[rank, math.floor(rel_timestamp / time_interval)] += 1\n",
    "    time = np.arange(0, number_of_intervals * time_interval, time_interval)\n",
    "    return time, counts, [*ranks.keys(), '<other>']\n",
    "\n",
    "\n",
    "def compute_vendor_distribution(*args, **kwargs):\n",
    "    time, counts, labels = vendor_frequency_count(*args, **kwargs)\n",
    "    return time, counts / np.sum(counts, axis=0), labels"
   ]
  },
  {
   "cell_type": "code",
   "execution_count": null,
   "metadata": {
    "pycharm": {
     "is_executing": false,
     "name": "#%%\n"
    },
    "scrolled": false
   },
   "outputs": [],
   "source": [
    "def plot_vendor_distributions(*captures, time_interval=TIME_INTERVAL):\n",
    "    for capture in captures:\n",
    "        vendor_distribution = compute_vendor_distribution(time_series_data[capture], time_interval, top=10)\n",
    "        plot_stack_plot(vendor_distribution, \n",
    "                        x_label='time (s)', y_label='percentage of probes per {}s'.format(time_interval), \n",
    "                        title=make_legend(capture))"
   ]
  },
  {
   "cell_type": "markdown",
   "metadata": {
    "pycharm": {
     "name": "#%% md\n"
    }
   },
   "source": [
    "### Route from Kaufering to Garching Forschungszentrum"
   ]
  },
  {
   "cell_type": "code",
   "execution_count": null,
   "metadata": {
    "pycharm": {
     "is_executing": false,
     "name": "#%%\n"
    }
   },
   "outputs": [],
   "source": [
    "plot_vendor_distributions(*commutes)"
   ]
  },
  {
   "cell_type": "markdown",
   "metadata": {},
   "source": [
    "#### Observations\n",
    "- The majority of MAC addresses is randomized.\n",
    "- The Raspberry Pi is sending probe requests as well.\n",
    "- The conductor of the measurements owns a OnePlus phone."
   ]
  },
  {
   "cell_type": "markdown",
   "metadata": {},
   "source": [
    "### Round Trip Routes of U2 and U6"
   ]
  },
  {
   "cell_type": "code",
   "execution_count": null,
   "metadata": {
    "pycharm": {
     "is_executing": false,
     "name": "#%%\n"
    }
   },
   "outputs": [],
   "source": [
    "plot_vendor_distributions(u2_roundtrip, u6_roundtrip)"
   ]
  },
  {
   "cell_type": "markdown",
   "metadata": {},
   "source": [
    "#### Observations\n",
    "Todo"
   ]
  },
  {
   "cell_type": "markdown",
   "metadata": {},
   "source": [
    "### Taking a Closer Look at the Spike in the U6 Data Set"
   ]
  },
  {
   "cell_type": "code",
   "execution_count": null,
   "metadata": {
    "pycharm": {
     "is_executing": true,
     "name": "#%%\n"
    }
   },
   "outputs": [],
   "source": [
    "def extract_time_range(capture, start_time, end_time):\n",
    "    timestamps = time_series_data[capture][:]['timestamp']\n",
    "    timestamp_0 = np.amin(timestamps)\n",
    "    timestamp_start, timestamp_end = timestamp_0 + start_time, timestamp_0 + end_time\n",
    "    condition = np.all([timestamp_start <= timestamps, timestamps < timestamp_end], axis=0)\n",
    "    return time_series_data[capture][condition]\n",
    "\n",
    "\n",
    "bursts = extract_time_range(u6_roundtrip, 2920, 2950)"
   ]
  },
  {
   "cell_type": "code",
   "execution_count": null,
   "metadata": {},
   "outputs": [],
   "source": [
    "def format_mac(mac):\n",
    "    return ':'.join(bytes([b]).hex() for b in mac)\n",
    "\n",
    "\n",
    "mac_counts = Counter(bursts[:]['mac']).most_common(5)\n",
    "table = ((format_mac(mac), lookup_vendor(mac), count) for mac, count in mac_counts)\n",
    "print(tabulate(table, headers=('MAC Address', 'Vendor', 'Count')))"
   ]
  },
  {
   "cell_type": "code",
   "execution_count": null,
   "metadata": {},
   "outputs": [],
   "source": [
    "CLOSE_UP_TIME_INTERVAL = 0.001\n",
    "xs, ys = frequency_count(bursts[:]['timestamp'], CLOSE_UP_TIME_INTERVAL)\n",
    "plot_line_chart((xs, ys, make_legend(u6_roundtrip)), \n",
    "                x_label='time (s)', \n",
    "                y_label='number of probes per {}s'.format(CLOSE_UP_TIME_INTERVAL))"
   ]
  },
  {
   "cell_type": "markdown",
   "metadata": {},
   "source": [
    "#### Observations\n",
    "Todo"
   ]
  },
  {
   "cell_type": "markdown",
   "metadata": {},
   "source": [
    "### Route from Munich Central Station to Dortmund Central Station"
   ]
  },
  {
   "cell_type": "code",
   "execution_count": null,
   "metadata": {
    "pycharm": {
     "is_executing": false,
     "name": "#%%\n"
    },
    "scrolled": false
   },
   "outputs": [],
   "source": [
    "plot_vendor_distributions(munich_to_dortmund)"
   ]
  },
  {
   "cell_type": "markdown",
   "metadata": {},
   "source": [
    "#### Observations\n",
    "Todo"
   ]
  }
 ],
 "metadata": {
  "kernelspec": {
   "display_name": "Python 3",
   "language": "python",
   "name": "python3"
  },
  "language_info": {
   "codemirror_mode": {
    "name": "ipython",
    "version": 3
   },
   "file_extension": ".py",
   "mimetype": "text/x-python",
   "name": "python",
   "nbconvert_exporter": "python",
   "pygments_lexer": "ipython3",
   "version": "3.6.9"
  },
  "pycharm": {
   "stem_cell": {
    "cell_type": "raw",
    "metadata": {
     "collapsed": false
    },
    "source": []
   }
  }
 },
 "nbformat": 4,
 "nbformat_minor": 2
}
