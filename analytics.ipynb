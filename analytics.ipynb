{
 "cells": [
  {
   "cell_type": "code",
   "execution_count": null,
   "metadata": {
    "pycharm": {
     "is_executing": false
    },
    "scrolled": true
   },
   "outputs": [],
   "source": [
    "%pip install numpy matplotlib scapy[basic] tqdm"
   ]
  },
  {
   "cell_type": "code",
   "execution_count": null,
   "metadata": {},
   "outputs": [],
   "source": [
    "import datetime\n",
    "\n",
    "def parse_date(state_string):\n",
    "    return datetime.datetime.strptime(state_string, '%Y-%m-%d %H:%M')\n",
    "\n",
    "commutes = [{'filename': 'capture-0-a4.pcap', \n",
    "           'description': 'trip from Kaufering to Garching Forschungszentrum',\n",
    "           'date_start': parse_date('2019-12-16 07:00')\n",
    "          },\n",
    "          {'filename': 'capture-1-a4.pcap', \n",
    "           'description': 'trip from Kaufering to Garching Forschungszentrum',\n",
    "           'date_start': parse_date('2019-12-17 07:00')\n",
    "          },\n",
    "          {'filename': 'capture-2-a4.pcap', \n",
    "           'description': 'trip from Kaufering to Garching Forschungszentrum',\n",
    "           'date_start': parse_date('2019-12-18 07:00')\n",
    "          },\n",
    "          {'filename': 'capture-5-a4.pcap', \n",
    "           'description': 'trip from Kaufering to Garching Forschungszentrum',\n",
    "           'date_start': parse_date('2020-01-13 07:00')\n",
    "          },\n",
    "          {'filename': 'capture-6-a4.pcap', \n",
    "           'description': 'trip from Kaufering to Garching Forschungszentrum',\n",
    "           'date_start': parse_date('2020-01-14 07:00')\n",
    "          },\n",
    "          {'filename': 'capture-7-a4.pcap', \n",
    "           'description': 'trip from Kaufering to Garching Forschungszentrum',\n",
    "           'date_start': parse_date('2020-01-20 07:00')\n",
    "          },\n",
    "          {'filename': 'capture-3-a4.pcap', \n",
    "           'description': 'U2 trip from Feldmoching to Messestadt Ost',\n",
    "           'date_start': parse_date('2019-12-19 12:07')\n",
    "          },\n",
    "          {'filename': 'capture-4-a4.pcap', \n",
    "           'description': 'U2 trip from Messestadt Ost to Feldmoching',\n",
    "           'date_start': parse_date('2019-12-19 13:05')\n",
    "          },\n",
    "          {'filename': 'capture-2-a1.pcap', \n",
    "           'description': 'U6 round trip Garching Forschungszentrum/Klinikum Großhadern',\n",
    "           'date_start': parse_date('2019-12-19 12:00')\n",
    "          },\n",
    "          {'filename': 'capture-3-a1.pcap', \n",
    "           'description': 'train trip Munich Central Station to Dortmund Central Station',\n",
    "           'date_start': parse_date('2019-12-24 07:21')\n",
    "          },\n",
    "         ]"
   ]
  },
  {
   "cell_type": "code",
   "execution_count": null,
   "metadata": {
    "pycharm": {
     "is_executing": false,
     "name": "#%%\n"
    }
   },
   "outputs": [],
   "source": [
    "from tqdm import tqdm\n",
    "from scapy.all import PcapReader\n",
    "\n",
    "\n",
    "def accumulate(file, *accumulators):\n",
    "    with PcapReader(file) as reader, tqdm(unit='packets', desc=file) as pbar:\n",
    "        for packet in reader:\n",
    "            for accumulator in accumulators:\n",
    "                accumulator(packet)\n",
    "            pbar.update()\n",
    "        return accumulators"
   ]
  },
  {
   "cell_type": "code",
   "execution_count": null,
   "metadata": {
    "pycharm": {
     "is_executing": false,
     "name": "#%%\n"
    }
   },
   "outputs": [],
   "source": [
    "import random\n",
    "import numpy as np\n",
    "from scapy.layers.dot11 import Dot11ProbeReq\n",
    "\n",
    "\n",
    "class ProbeReqAcc(list):\n",
    "    TYPE = ('timestamp', np.float), ('mac', np.string_, 17)\n",
    "    \n",
    "    def __call__(self, packet):\n",
    "        if packet.haslayer(Dot11ProbeReq):\n",
    "            values = packet.time, packet.addr2\n",
    "            self.append(values)\n",
    "            \n",
    "    def as_numpy_array(self):\n",
    "        return np.array(self, dtype=np.dtype([*self.TYPE]))\n",
    "\n",
    "\n",
    "class RandProbeReqSampler(list):\n",
    "    PROBABILITY = 0.001\n",
    "    \n",
    "    def __call__(self, packet):\n",
    "        if packet.haslayer(Dot11ProbeReq) and random.random() <= self.PROBABILITY:\n",
    "            self.append(packet)"
   ]
  },
  {
   "cell_type": "code",
   "execution_count": null,
   "metadata": {
    "pycharm": {
     "is_executing": false,
     "name": "#%%\n"
    }
   },
   "outputs": [],
   "source": [
    "directory = '../probes/'\n",
    "\n",
    "for commute in commutes:\n",
    "    path = directory + commute['filename']\n",
    "    \n",
    "    probes, samples = accumulate(path, ProbeReqAcc(), RandProbeReqSampler())\n",
    "    \n",
    "    commute['probes'] = probes\n",
    "    commute['samples'] = samples"
   ]
  },
  {
   "cell_type": "code",
   "execution_count": null,
   "metadata": {},
   "outputs": [],
   "source": [
    "%matplotlib inline\n",
    "import math\n",
    "import matplotlib\n",
    "import matplotlib.pyplot as plt"
   ]
  },
  {
   "cell_type": "code",
   "execution_count": null,
   "metadata": {},
   "outputs": [],
   "source": [
    "def duration(data):\n",
    "    timestamps = data[:]['timestamp']\n",
    "    return np.amax(timestamps) - np.amin(timestamps)\n",
    "    \n",
    "def plot_packets_per_time_interval(commute):\n",
    "    sampling_interval = 100\n",
    "    number_of_buckets = math.ceil(duration(commute['probes'].as_numpy_array()) / sampling_interval)\n",
    "    \n",
    "    result = np.zeros(number_of_buckets)\n",
    "    timestamps = commute['probes'].as_numpy_array()[:]['timestamp']\n",
    "    timestamp_min = np.amin(timestamps)\n",
    "    for timestamp in timestamps:\n",
    "        result[math.floor((timestamp - timestamp_min) / sampling_interval)] += 1\n",
    "\n",
    "    x_axis = np.arange(0, number_of_buckets * sampling_interval, sampling_interval)\n",
    "\n",
    "    plt.plot(x_axis, result, label=commute['description']+' on '+commute['date_start'].strftime('%m/%d/%Y %H:%M'))\n",
    "\n",
    "for i in range(3):\n",
    "    plot_packets_per_time_interval(commutes[i])\n",
    "\n",
    "plt.xlabel('time (s)')\n",
    "plt.ylabel('number of packets')\n",
    "plt.legend(loc=\"upper left\")"
   ]
  },
  {
   "cell_type": "code",
   "execution_count": null,
   "metadata": {
    "pycharm": {
     "is_executing": false,
     "name": "#%%\n"
    }
   },
   "outputs": [],
   "source": [
    "# test\n",
    "\n",
    "commute_16122019, commute_16122019_samples = accumulate('../probes/capture-0-a4.pcap', ProbeReqAcc(), RandProbeReqSampler())\n",
    "\n",
    "commute_16122019_samples[0].show()\n"
   ]
  }
 ],
 "metadata": {
  "kernelspec": {
   "display_name": "Python 3",
   "language": "python",
   "name": "python3"
  },
  "language_info": {
   "codemirror_mode": {
    "name": "ipython",
    "version": 3
   },
   "file_extension": ".py",
   "mimetype": "text/x-python",
   "name": "python",
   "nbconvert_exporter": "python",
   "pygments_lexer": "ipython3",
   "version": "3.7.4"
  },
  "pycharm": {
   "stem_cell": {
    "cell_type": "raw",
    "metadata": {
     "collapsed": false
    },
    "source": []
   }
  }
 },
 "nbformat": 4,
 "nbformat_minor": 2
}
