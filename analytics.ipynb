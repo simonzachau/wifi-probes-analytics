{
 "cells": [
  {
   "cell_type": "code",
   "execution_count": null,
   "metadata": {
    "pycharm": {
     "is_executing": false
    },
    "scrolled": true
   },
   "outputs": [],
   "source": [
    "%pip install numpy matplotlib scapy[basic] tqdm"
   ]
  },
  {
   "cell_type": "code",
   "execution_count": null,
   "metadata": {
    "pycharm": {
     "is_executing": false,
     "name": "#%%\n"
    }
   },
   "outputs": [],
   "source": [
    "from tqdm import tqdm\n",
    "from scapy.all import PcapReader\n",
    "\n",
    "\n",
    "def accumulate(file, *accumulators):\n",
    "    with PcapReader(file) as reader, tqdm(unit='packets', desc=file) as pbar:\n",
    "        for packet in reader:\n",
    "            for accumulator in accumulators:\n",
    "                accumulator(packet)\n",
    "            pbar.update()\n",
    "        return accumulators"
   ]
  },
  {
   "cell_type": "code",
   "execution_count": null,
   "metadata": {
    "pycharm": {
     "is_executing": false,
     "name": "#%%\n"
    }
   },
   "outputs": [],
   "source": [
    "import random\n",
    "import numpy as np\n",
    "from scapy.layers.dot11 import Dot11ProbeReq\n",
    "\n",
    "\n",
    "class ProbeReqAcc(list):\n",
    "    TYPE = ('timestamp', np.float), ('mac', np.string_, 17)\n",
    "    \n",
    "    def __call__(self, packet):\n",
    "        if packet.haslayer(Dot11ProbeReq):\n",
    "            values = packet.time, packet.addr2\n",
    "            self.append(values)\n",
    "            \n",
    "    def as_numpy_array(self):\n",
    "        return np.array(self, dtype=np.dtype([*self.TYPE]))\n",
    "\n",
    "\n",
    "class RandProbeReqSampler(list):\n",
    "    PROBABILITY = 0.001\n",
    "    \n",
    "    def __call__(self, packet):\n",
    "        if packet.haslayer(Dot11ProbeReq) and random.random() <= self.PROBABILITY:\n",
    "            self.append(packet)"
   ]
  },
  {
   "cell_type": "code",
   "execution_count": null,
   "metadata": {
    "pycharm": {
     "is_executing": false,
     "name": "#%%\n"
    }
   },
   "outputs": [],
   "source": [
    "commute_16122019, commute_16122019_samples = accumulate('../probes/capture-0-a4.pcap', ProbeReqAcc(), RandProbeReqSampler())\n",
    "commute_17122019, commute_17122019_samples = accumulate('../probes/capture-1-a4.pcap', ProbeReqAcc(), RandProbeReqSampler())\n",
    "commute_18122019, commute_18122019_samples = accumulate('../probes/capture-2-a4.pcap', ProbeReqAcc(), RandProbeReqSampler())"
   ]
  },
  {
   "cell_type": "code",
   "execution_count": null,
   "metadata": {
    "pycharm": {
     "is_executing": false
    }
   },
   "outputs": [],
   "source": [
    "def duration(data):\n",
    "    timestamps = data[:]['timestamp']\n",
    "    return np.amax(timestamps) - np.amin(timestamps)\n",
    "\n",
    "\n",
    "durations = {'commute_16122019': duration(commute_16122019.as_numpy_array()),\n",
    "             'commute_17122019': duration(commute_17122019.as_numpy_array()),\n",
    "             'commute_18122019': duration(commute_18122019.as_numpy_array())\n",
    "            }"
   ]
  },
  {
   "cell_type": "code",
   "execution_count": null,
   "metadata": {},
   "outputs": [],
   "source": [
    "%matplotlib inline\n",
    "import math\n",
    "import matplotlib\n",
    "import matplotlib.pyplot as plt\n",
    "    \n",
    "def plot_packets_per_time_interval(commute):\n",
    "    sampling_interval = 100\n",
    "\n",
    "    number_of_buckets = math.ceil(duration(commute.as_numpy_array()) / sampling_interval)\n",
    "\n",
    "    result = np.zeros(number_of_buckets)\n",
    "    timestamps = commute.as_numpy_array()[:]['timestamp']\n",
    "    timestamp_min = np.amin(timestamps)\n",
    "    for timestamp in timestamps:\n",
    "        result[math.floor((timestamp - timestamp_min) / sampling_interval)] += 1\n",
    "\n",
    "    x_axis = np.arange(0, (number_of_buckets) * sampling_interval, sampling_interval)\n",
    "\n",
    "    plt.plot(x_axis, result)"
   ]
  },
  {
   "cell_type": "code",
   "execution_count": null,
   "metadata": {},
   "outputs": [],
   "source": [
    "plot_packets_per_time_interval(commute_16122019)\n",
    "plot_packets_per_time_interval(commute_17122019)\n",
    "plot_packets_per_time_interval(commute_18122019)"
   ]
  },
  {
   "cell_type": "code",
   "execution_count": null,
   "metadata": {
    "pycharm": {
     "is_executing": false,
     "name": "#%%\n"
    }
   },
   "outputs": [],
   "source": [
    "commute_16122019_samples[0].show()\n"
   ]
  }
 ],
 "metadata": {
  "kernelspec": {
   "display_name": "Python 3",
   "language": "python",
   "name": "python3"
  },
  "language_info": {
   "codemirror_mode": {
    "name": "ipython",
    "version": 3
   },
   "file_extension": ".py",
   "mimetype": "text/x-python",
   "name": "python",
   "nbconvert_exporter": "python",
   "pygments_lexer": "ipython3",
   "version": "3.7.4"
  },
  "pycharm": {
   "stem_cell": {
    "cell_type": "raw",
    "metadata": {
     "collapsed": false
    },
    "source": []
   }
  }
 },
 "nbformat": 4,
 "nbformat_minor": 2
}
