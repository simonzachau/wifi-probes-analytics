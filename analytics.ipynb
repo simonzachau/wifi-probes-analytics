{
 "cells": [
  {
   "cell_type": "code",
   "execution_count": 1,
   "metadata": {
    "pycharm": {
     "is_executing": false
    },
    "scrolled": true
   },
   "outputs": [
    {
     "name": "stdout",
     "text": [
      "Collecting numpy\r\n",
      "  Using cached https://files.pythonhosted.org/packages/62/20/4d43e141b5bc426ba38274933ef8e76e85c7adea2c321ecf9ebf7421cedf/numpy-1.18.1-cp36-cp36m-manylinux1_x86_64.whl\r\n",
      "Collecting matplotlib\r\n",
      "  Using cached https://files.pythonhosted.org/packages/7e/07/4b361d6d0f4e08942575f83a11d33f36897e1aae4279046606dd1808778a/matplotlib-3.1.3-cp36-cp36m-manylinux1_x86_64.whl\r\n",
      "Collecting scapy[basic]\r\n",
      "Collecting tqdm\r\n",
      "  Using cached https://files.pythonhosted.org/packages/cd/80/5bb262050dd2f30f8819626b7c92339708fe2ed7bd5554c8193b4487b367/tqdm-4.42.1-py2.py3-none-any.whl\r\n",
      "Collecting pyparsing!=2.0.4,!=2.1.2,!=2.1.6,>=2.0.1 (from matplotlib)\r\n",
      "  Using cached https://files.pythonhosted.org/packages/5d/bc/1e58593167fade7b544bfe9502a26dc860940a79ab306e651e7f13be68c2/pyparsing-2.4.6-py2.py3-none-any.whl\r\n",
      "Collecting cycler>=0.10 (from matplotlib)\r\n",
      "  Using cached https://files.pythonhosted.org/packages/f7/d2/e07d3ebb2bd7af696440ce7e754c59dd546ffe1bbe732c8ab68b9c834e61/cycler-0.10.0-py2.py3-none-any.whl\r\n",
      "Collecting python-dateutil>=2.1 (from matplotlib)\r\n",
      "  Using cached https://files.pythonhosted.org/packages/d4/70/d60450c3dd48ef87586924207ae8907090de0b306af2bce5d134d78615cb/python_dateutil-2.8.1-py2.py3-none-any.whl\r\n",
      "Collecting kiwisolver>=1.0.1 (from matplotlib)\r\n",
      "  Using cached https://files.pythonhosted.org/packages/f8/a1/5742b56282449b1c0968197f63eae486eca2c35dcd334bab75ad524e0de1/kiwisolver-1.1.0-cp36-cp36m-manylinux1_x86_64.whl\r\n",
      "Collecting ipython; extra == \"basic\" (from scapy[basic])\r\n",
      "  Using cached https://files.pythonhosted.org/packages/b8/6d/1e3e335e767fc15a2047a008e27df31aa8bcf11c6f3805d03abefc69aa88/ipython-7.12.0-py3-none-any.whl\r\n",
      "Collecting six (from cycler>=0.10->matplotlib)\r\n",
      "  Using cached https://files.pythonhosted.org/packages/65/eb/1f97cb97bfc2390a276969c6fae16075da282f5058082d4cb10c6c5c1dba/six-1.14.0-py2.py3-none-any.whl\r\n",
      "Collecting setuptools (from kiwisolver>=1.0.1->matplotlib)\r\n",
      "  Using cached https://files.pythonhosted.org/packages/a7/c5/6c1acea1b4ea88b86b03280f3fde1efa04fefecd4e7d2af13e602661cde4/setuptools-45.1.0-py3-none-any.whl\r\n",
      "Collecting jedi>=0.10 (from ipython; extra == \"basic\"->scapy[basic])\r\n",
      "  Using cached https://files.pythonhosted.org/packages/01/67/333e2196b70840f411fd819407b4e98aa3150c2bd24c52154a451f912ef2/jedi-0.16.0-py2.py3-none-any.whl\r\n",
      "Collecting pexpect; sys_platform != \"win32\" (from ipython; extra == \"basic\"->scapy[basic])\r\n",
      "  Using cached https://files.pythonhosted.org/packages/39/7b/88dbb785881c28a102619d46423cb853b46dbccc70d3ac362d99773a78ce/pexpect-4.8.0-py2.py3-none-any.whl\r\n",
      "Collecting pickleshare (from ipython; extra == \"basic\"->scapy[basic])\r\n",
      "  Using cached https://files.pythonhosted.org/packages/9a/41/220f49aaea88bc6fa6cba8d05ecf24676326156c23b991e80b3f2fc24c77/pickleshare-0.7.5-py2.py3-none-any.whl\r\n",
      "Collecting traitlets>=4.2 (from ipython; extra == \"basic\"->scapy[basic])\r\n",
      "  Using cached https://files.pythonhosted.org/packages/ca/ab/872a23e29cec3cf2594af7e857f18b687ad21039c1f9b922fac5b9b142d5/traitlets-4.3.3-py2.py3-none-any.whl\r\n",
      "Collecting backcall (from ipython; extra == \"basic\"->scapy[basic])\r\n",
      "Collecting pygments (from ipython; extra == \"basic\"->scapy[basic])\r\n",
      "  Using cached https://files.pythonhosted.org/packages/be/39/32da3184734730c0e4d3fa3b2b5872104668ad6dc1b5a73d8e477e5fe967/Pygments-2.5.2-py2.py3-none-any.whl\r\n",
      "Collecting prompt-toolkit!=3.0.0,!=3.0.1,<3.1.0,>=2.0.0 (from ipython; extra == \"basic\"->scapy[basic])\r\n",
      "  Using cached https://files.pythonhosted.org/packages/f5/22/f00412fafc68169054cc623a35c32773f22b403ddbe516c8adfdecf25341/prompt_toolkit-3.0.3-py3-none-any.whl\r\n",
      "Collecting decorator (from ipython; extra == \"basic\"->scapy[basic])\r\n",
      "  Using cached https://files.pythonhosted.org/packages/8f/b7/f329cfdc75f3d28d12c65980e4469e2fa373f1953f5df6e370e84ea2e875/decorator-4.4.1-py2.py3-none-any.whl\r\n",
      "Collecting parso>=0.5.2 (from jedi>=0.10->ipython; extra == \"basic\"->scapy[basic])\r\n",
      "  Using cached https://files.pythonhosted.org/packages/ec/bb/3b6c9f604ac40e2a7833bc767bd084035f12febcbd2b62204c5bc30edf97/parso-0.6.1-py2.py3-none-any.whl\r\n",
      "Collecting ptyprocess>=0.5 (from pexpect; sys_platform != \"win32\"->ipython; extra == \"basic\"->scapy[basic])\r\n",
      "  Using cached https://files.pythonhosted.org/packages/d1/29/605c2cc68a9992d18dada28206eeada56ea4bd07a239669da41674648b6f/ptyprocess-0.6.0-py2.py3-none-any.whl\r\n",
      "Collecting ipython-genutils (from traitlets>=4.2->ipython; extra == \"basic\"->scapy[basic])\r\n",
      "  Using cached https://files.pythonhosted.org/packages/fa/bc/9bd3b5c2b4774d5f33b2d544f1460be9df7df2fe42f352135381c347c69a/ipython_genutils-0.2.0-py2.py3-none-any.whl\r\n",
      "Collecting wcwidth (from prompt-toolkit!=3.0.0,!=3.0.1,<3.1.0,>=2.0.0->ipython; extra == \"basic\"->scapy[basic])\r\n",
      "  Using cached https://files.pythonhosted.org/packages/58/b4/4850a0ccc6f567cc0ebe7060d20ffd4258b8210efadc259da62dc6ed9c65/wcwidth-0.1.8-py2.py3-none-any.whl\r\n",
      "Installing collected packages: numpy, pyparsing, six, cycler, python-dateutil, setuptools, kiwisolver, matplotlib, parso, jedi, ptyprocess, pexpect, pickleshare, ipython-genutils, decorator, traitlets, backcall, pygments, wcwidth, prompt-toolkit, ipython, scapy, tqdm\r\n",
      "Successfully installed backcall-0.1.0 cycler-0.10.0 decorator-4.4.1 ipython-7.12.0 ipython-genutils-0.2.0 jedi-0.16.0 kiwisolver-1.1.0 matplotlib-3.1.3 numpy-1.18.1 parso-0.6.1 pexpect-4.8.0 pickleshare-0.7.5 prompt-toolkit-3.0.3 ptyprocess-0.6.0 pygments-2.5.2 pyparsing-2.4.6 python-dateutil-2.8.1 scapy-2.4.3 setuptools-45.1.0 six-1.14.0 tqdm-4.42.1 traitlets-4.3.3 wcwidth-0.1.8\r\n",
      "Note: you may need to restart the kernel to use updated packages.\n"
     ],
     "output_type": "stream"
    }
   ],
   "source": [
    "%pip install numpy matplotlib scapy[basic] tqdm"
   ]
  },
  {
   "cell_type": "code",
   "execution_count": 2,
   "metadata": {
    "pycharm": {
     "is_executing": false,
     "name": "#%%\n"
    }
   },
   "outputs": [],
   "source": [
    "from tqdm import tqdm\n",
    "from scapy.all import PcapReader\n",
    "\n",
    "\n",
    "def accumulate(file, *accumulators):\n",
    "    with PcapReader(file) as reader, tqdm(unit='packets', desc=file) as pbar:\n",
    "        for packet in reader:\n",
    "            for accumulator in accumulators:\n",
    "                accumulator(packet)\n",
    "            pbar.update()\n",
    "        return accumulators"
   ]
  },
  {
   "cell_type": "code",
   "execution_count": 40,
   "metadata": {
    "pycharm": {
     "is_executing": false,
     "name": "#%%\n"
    }
   },
   "outputs": [],
   "source": [
    "import random\n",
    "import numpy as np\n",
    "from scapy.layers.dot11 import Dot11ProbeReq\n",
    "\n",
    "\n",
    "class ProbeReqAcc(list):\n",
    "    TYPE = ('timestamp', np.float), ('mac', np.string_, 17)\n",
    "    \n",
    "    def __call__(self, packet):\n",
    "        if packet.haslayer(Dot11ProbeReq):\n",
    "            values = packet.time, packet.addr2\n",
    "            self.append(values)\n",
    "            \n",
    "    def as_numpy_array(self):\n",
    "        return np.array(self, dtype=np.dtype([*self.TYPE]))\n",
    "\n",
    "\n",
    "class RandProbeReqSampler(list):\n",
    "    PROBABILITY = 0.001\n",
    "    \n",
    "    def __call__(self, packet):\n",
    "        if packet.haslayer(Dot11ProbeReq) and random.random() <= self.PROBABILITY:\n",
    "            self.append(packet)"
   ]
  },
  {
   "cell_type": "code",
   "execution_count": 41,
   "metadata": {
    "pycharm": {
     "name": "#%%\n",
     "is_executing": false
    }
   },
   "outputs": [
    {
     "name": "stderr",
     "text": [
      "capture-0-a4.pcap: 57279packets [01:05, 873.86packets/s] \n",
      "capture-1-a4.pcap: 67268packets [01:17, 863.96packets/s] \n",
      "capture-2-a4.pcap: 59223packets [01:09, 857.95packets/s] \n"
     ],
     "output_type": "stream"
    }
   ],
   "source": [
    "commute_16122019, commute_16122019_samples = accumulate('capture-0-a4.pcap', ProbeReqAcc(), RandProbeReqSampler())\n",
    "commute_17122019, commute_17122019_samples = accumulate('capture-1-a4.pcap', ProbeReqAcc(), RandProbeReqSampler())\n",
    "commute_18122019, commute_18122019_samples = accumulate('capture-2-a4.pcap', ProbeReqAcc(), RandProbeReqSampler())"
   ]
  },
  {
   "cell_type": "code",
   "execution_count": 42,
   "metadata": {
    "pycharm": {
     "is_executing": false
    }
   },
   "outputs": [
    {
     "name": "stdout",
     "text": [
      "5516.539717912674\n",
      "5496.147868871689\n",
      "4705.994265079498\n"
     ],
     "output_type": "stream"
    }
   ],
   "source": [
    "def duration(data):\n",
    "    timestamps = data[:]['timestamp']\n",
    "    return np.amax(timestamps) - np.amin(timestamps)\n",
    "\n",
    "\n",
    "print(duration(commute_16122019.as_numpy_array()))\n",
    "print(duration(commute_17122019.as_numpy_array()))\n",
    "print(duration(commute_18122019.as_numpy_array()))"
   ]
  },
  {
   "cell_type": "code",
   "execution_count": 47,
   "outputs": [
    {
     "name": "stdout",
     "text": [
      "###[ RadioTap dummy ]### \n",
      "  version   = 0\n",
      "  pad       = 0\n",
      "  len       = 18\n",
      "  present   = Flags+Rate+Channel+dBm_AntSignal+Antenna+RXFlags\n",
      "  Flags     = \n",
      "  Rate      = 2\n",
      "  ChannelFrequency= 2462\n",
      "  ChannelFlags= CCK+2GHz\n",
      "  dBm_AntSignal= -42dBm\n",
      "  Antenna   = 1\n",
      "  RXFlags   = \n",
      "  notdecoded= ''\n",
      "###[ 802.11 ]### \n",
      "     subtype   = 4\n",
      "     type      = Management\n",
      "     proto     = 0\n",
      "     FCfield   = \n",
      "     ID        = 0\n",
      "     addr1     = ff:ff:ff:ff:ff:ff\n",
      "     addr2     = f6:b1:53:4c:01:e8\n",
      "     addr3     = ff:ff:ff:ff:ff:ff\n",
      "     SC        = 15760\n",
      "###[ 802.11 Probe Request ]### \n",
      "###[ 802.11 Information Element ]### \n",
      "           ID        = SSID\n",
      "           len       = 0\n",
      "           info      = ''\n",
      "###[ 802.11 Rates ]### \n",
      "           ID        = 1\n",
      "           len       = 4\n",
      "           rates     = [0x2, 0x4, 0xb, 0x16]\n",
      "###[ 802.11 Information Element ]### \n",
      "           ID        = ESRates\n",
      "           len       = 8\n",
      "           info      = '\\x0c\\x12\\x18$0H`l'\n",
      "###[ 802.11 Information Element ]### \n",
      "           ID        = DSset\n",
      "           len       = 1\n",
      "           info      = '\\x0b'\n",
      "###[ 802.11 Information Element ]### \n",
      "           ID        = HTCapabilities\n",
      "           len       = 26\n",
      "           info      = '\\xad\\x01\\x13\\xff\\xff\\x00\\x00\\x00\\x00\\x00\\x00\\x00\\x00\\x00\\x00\\x00\\x00\\x00\\x00\\x00\\x00\\x00\\x00\\x00\\x00\\x00'\n",
      "###[ 802.11 Information Element ]### \n",
      "           ID        = ExtendendCapatibilities\n",
      "           len       = 9\n",
      "           info      = '\\x04\\x00\\x00\\x00\\x00\\x00\\x00@\\x80'\n",
      "###[ 802.11 Information Element ]### \n",
      "           ID        = VHTCapabilities\n",
      "           len       = 12\n",
      "           info      = '\\x92\\xf9\\x913\\xfa\\xff\\x0c\\x03\\xfa\\xff\\x0c\\x03'\n",
      "###[ 802.11 Vendor Specific ]### \n",
      "           ID        = 221\n",
      "           len       = 7\n",
      "           oui       = 0x50f2\n",
      "           info      = '\\x08\\x00\\x19\\x00'\n",
      "###[ 802.11 Information Element ]### \n",
      "           ID        = 255\n",
      "           len       = 3\n",
      "           info      = '\\x02\\x00*'\n",
      "###[ 802.11 Information Element ]### \n",
      "           ID        = ExtendendCapatibilities\n",
      "           len       = 5\n",
      "           info      = '\\x00\\x00\\n\\x02\\x01'\n",
      "###[ 802.11 Vendor Specific ]### \n",
      "           ID        = 221\n",
      "           len       = 8\n",
      "           oui       = 0x8cfdf0\n",
      "           info      = '\\x01\\x01\\x02\\x01\\x00'\n",
      "\n"
     ],
     "output_type": "stream"
    }
   ],
   "source": [
    "commute_16122019_samples[0].show()\n"
   ],
   "metadata": {
    "collapsed": false,
    "pycharm": {
     "name": "#%%\n",
     "is_executing": false
    }
   }
  }
 ],
 "metadata": {
  "kernelspec": {
   "display_name": "Python 3",
   "language": "python",
   "name": "python3"
  },
  "language_info": {
   "codemirror_mode": {
    "name": "ipython",
    "version": 3
   },
   "file_extension": ".py",
   "mimetype": "text/x-python",
   "name": "python",
   "nbconvert_exporter": "python",
   "pygments_lexer": "ipython3",
   "version": "3.6.9"
  },
  "pycharm": {
   "stem_cell": {
    "cell_type": "raw",
    "source": [],
    "metadata": {
     "collapsed": false
    }
   }
  }
 },
 "nbformat": 4,
 "nbformat_minor": 2
}