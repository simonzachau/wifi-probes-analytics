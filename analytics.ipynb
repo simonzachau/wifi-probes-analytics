{
 "cells": [
  {
   "cell_type": "markdown",
   "metadata": {},
   "source": [
    "---\n",
    "\n",
    "**Assignment 3: Mobility Tracking (Connected Mobility Basics, Winter 2019/20)**\n",
    "\n",
    "Felix Schorer | Haoyang Sun | Simon Zachau\n",
    "\n",
    "---"
   ]
  },
  {
   "cell_type": "code",
   "execution_count": null,
   "metadata": {
    "pycharm": {
     "is_executing": false
    },
    "scrolled": true
   },
   "outputs": [],
   "source": [
    "%pip install numpy matplotlib scapy[basic] tqdm tabulate"
   ]
  },
  {
   "cell_type": "markdown",
   "metadata": {},
   "source": [
    "# 1. Introduction\n",
    "\n",
    "We collected Wifi probes with a Raspberry Pi and 2 antennas on different commutes around Munich to analyse them. Specifically, we look at the number of packets and their MAC addresses relative to time, and therefore also location. In the beginning, we asked ourselves if we could track devices over multiple days during the time of a route and if we can we infer from the data when the train/subway stops."
   ]
  },
  {
   "cell_type": "markdown",
   "metadata": {},
   "source": [
    "# 2. Routes\n",
    "\n",
    "## 2.1 Route from Kaufering to Garching Forschungszentrum\n",
    "\n",
    "We measured the route from Kaufering to Garching Forschungszentrum on 3 different days each before Christmas and after Christmas. It involves the train until Munich Central Station, the S-Bahn from Munich Central Station to Marienplatz, and the U6 from Marienplatz to Garching Forschungszentrum. The fact that our measurements involve multiple days, but are conducted at 7:00 AM consistently every morning, gives us the chance to compare the results.\n",
    "\n",
    "![route from Kaufering to Garching Forschungszentrum](./illustrations/kaufering_garchingforschungzentrum.png)"
   ]
  },
  {
   "cell_type": "code",
   "execution_count": null,
   "metadata": {},
   "outputs": [],
   "source": [
    "from tabulate import tabulate\n",
    "from captures import commutes\n",
    "\n",
    "\n",
    "table = [[c.description, c.start_date] for c in commutes]\n",
    "print(tabulate(table, headers=['Description', 'Start Date/Time']))"
   ]
  },
  {
   "cell_type": "markdown",
   "metadata": {},
   "source": [
    "## 2.2 Round Trip Routes of U2 and U6\n",
    "\n",
    "On the 19th of December we measured 1 round trip in each the U2 and the U6 at noon. Both lines meet in the city center but cross different areas of Munich. Different demographics and destinations might enable different observations.\n",
    "\n",
    "![route of U2 and U6](./illustrations/u2u6.png)"
   ]
  },
  {
   "cell_type": "code",
   "execution_count": null,
   "metadata": {},
   "outputs": [],
   "source": [
    "from tabulate import tabulate\n",
    "from captures import u2_to_messestadt, u6_roundtrip\n",
    "\n",
    "\n",
    "table = [[u2_to_messestadt.description, u2_to_messestadt.start_date],\n",
    "         [u6_roundtrip.description, u6_roundtrip.start_date]]\n",
    "print(tabulate(table, headers=['Description', 'Start Date/Time']))"
   ]
  },
  {
   "cell_type": "markdown",
   "metadata": {},
   "source": [
    "## 2.3 Route from Munich Central Station to Dortmund Central Station\n",
    "\n",
    "On the 24th of December we measured a trip in the ICE from Munich Central Station to Dortmund Central Station. We might be able to analyse different devices and device usages compared to subway lines in the city center.\n",
    "\n",
    "![route from Munich Central Station to Dortmund Central Station](./illustrations/munich_dortmund.png)"
   ]
  },
  {
   "cell_type": "code",
   "execution_count": null,
   "metadata": {},
   "outputs": [],
   "source": [
    "from tabulate import tabulate\n",
    "from captures import munich_to_dortmund\n",
    "\n",
    "\n",
    "table = [[munich_to_dortmund.description, munich_to_dortmund.start_date]]\n",
    "print(tabulate(table, headers=['Description', 'Start Date/Time']))"
   ]
  },
  {
   "cell_type": "markdown",
   "metadata": {},
   "source": [
    "# 3. Analysis\n",
    "\n",
    "## 3.1 Number of Probes Per Time Interval"
   ]
  },
  {
   "cell_type": "code",
   "execution_count": null,
   "metadata": {
    "pycharm": {
     "is_executing": false,
     "name": "#%%\n"
    }
   },
   "outputs": [],
   "source": [
    "import random\n",
    "import numpy as np\n",
    "from tqdm import tqdm\n",
    "from scapy.all import PcapReader\n",
    "from scapy.layers.dot11 import Dot11ProbeReq\n",
    "\n",
    "\n",
    "def accumulate(file, *accumulators):\n",
    "    with PcapReader(file) as reader, tqdm(unit='packets', desc=file) as pbar:\n",
    "        for packet in reader:\n",
    "            for accumulator in accumulators:\n",
    "                accumulator(packet)\n",
    "            pbar.update()\n",
    "        return accumulators\n",
    "\n",
    "\n",
    "class TimeSeriesAccumulator(list):\n",
    "    TYPE = ('timestamp', np.float), ('mac', np.bytes_, 6)\n",
    "    \n",
    "    def __call__(self, packet):\n",
    "        if packet.haslayer(Dot11ProbeReq):\n",
    "            timestamp = packet.time\n",
    "            mac = bytes.fromhex(packet.addr2.replace(':', ''))\n",
    "            self.append((timestamp, mac))\n",
    "            \n",
    "    def as_numpy_array(self):\n",
    "        return np.array(self, dtype=np.dtype([*self.TYPE]))\n",
    "\n",
    "\n",
    "class RandomProbeSampler(list):\n",
    "    PROBABILITY = 0.001\n",
    "    \n",
    "    def __call__(self, packet):\n",
    "        if packet.haslayer(Dot11ProbeReq) and random.random() <= self.PROBABILITY:\n",
    "            self.append(packet)"
   ]
  },
  {
   "cell_type": "code",
   "execution_count": null,
   "metadata": {
    "pycharm": {
     "is_executing": false,
     "name": "#%%\n"
    }
   },
   "outputs": [],
   "source": [
    "%matplotlib inline\n",
    "\n",
    "import matplotlib.pyplot as plt\n",
    "\n",
    "\n",
    "def plot_line_chart(data, x_label=None, y_label=None, x_scale='linear', y_scale='linear'):\n",
    "    plt.figure(figsize=(18, 6))\n",
    "    legends = []\n",
    "    for xs, ys, legend in data:\n",
    "        plt.plot(xs, ys)\n",
    "        legends.append(legend)\n",
    "    plt.xlabel(x_label)\n",
    "    plt.ylabel(y_label)\n",
    "    plt.xscale(x_scale)\n",
    "    plt.yscale(y_scale)\n",
    "    plt.legend(legends)"
   ]
  },
  {
   "cell_type": "code",
   "execution_count": null,
   "metadata": {
    "pycharm": {
     "is_executing": false,
     "name": "#%%\n"
    }
   },
   "outputs": [],
   "source": [
    "import math\n",
    "\n",
    "\n",
    "def duration(timestamps):\n",
    "    return np.amax(timestamps) - np.amin(timestamps)\n",
    "\n",
    "\n",
    "def frequency_count(timestamps, time_interval):\n",
    "    number_of_intervals = math.ceil(duration(timestamps) / time_interval)\n",
    "    counts = np.zeros(number_of_intervals)\n",
    "    rel_timestamps = timestamps - np.amin(timestamps)\n",
    "    for timestamp in rel_timestamps:\n",
    "        counts[math.floor(timestamp / time_interval)] += 1\n",
    "    time = np.arange(0, len(counts) * time_interval, time_interval)\n",
    "    return time, counts"
   ]
  },
  {
   "cell_type": "markdown",
   "metadata": {},
   "source": [
    "### Route from Kaufering to Garching Forschungszentrum"
   ]
  },
  {
   "cell_type": "code",
   "execution_count": null,
   "metadata": {
    "pycharm": {
     "is_executing": false,
     "name": "#%%\n"
    }
   },
   "outputs": [],
   "source": [
    "from captures import commutes, make_legend\n",
    "\n",
    "\n",
    "commute_time_series = dict()  # commute -> feature matrix\n",
    "commute_samples = dict()  # commute -> list of probe request samples\n",
    "\n",
    "for commute in commutes:\n",
    "    features, samples = accumulate(commute.filename, TimeSeriesAccumulator(), RandomProbeSampler())\n",
    "    commute_time_series[commute] = features.as_numpy_array()\n",
    "    commute_samples[commute] = samples"
   ]
  },
  {
   "cell_type": "code",
   "execution_count": null,
   "metadata": {},
   "outputs": [],
   "source": [
    "TIME_INTERVAL = 120\n",
    "\n",
    "plots = []\n",
    "\n",
    "for commute in commutes:\n",
    "    timestamps = commute_time_series[commute][:]['timestamp']\n",
    "    xs, ys = frequency_count(timestamps, TIME_INTERVAL)\n",
    "    plots.append((xs, ys, make_legend(commute)))\n",
    "\n",
    "plot_line_chart(plots, x_label='time (s)', y_label='number of probes per {}s'.format(TIME_INTERVAL))"
   ]
  },
  {
   "cell_type": "markdown",
   "metadata": {},
   "source": [
    "#### Observations\n",
    "- The trip on 12/18/2019 (green line) ends early because of the battery running out.\n",
    "- The change of number of packets per 100s across time is consistent in relative terms.\n",
    "- The number of packets per 100s starts at about 500 in Kaufering, grows until Central Station until 2000 packets per 100s, \n",
    "  peaks multiple times around the city center, and decreases until the destination Garching Forschungszentrum."
   ]
  },
  {
   "cell_type": "markdown",
   "metadata": {},
   "source": [
    "### Round Trip Routes of U2 and U6\n",
    "\n",
    "TODO"
   ]
  },
  {
   "cell_type": "markdown",
   "metadata": {},
   "source": [
    "### Route from Munich Central Station to Dortmund Central Station"
   ]
  },
  {
   "cell_type": "code",
   "execution_count": null,
   "metadata": {},
   "outputs": [],
   "source": [
    "from captures import munich_to_dortmund, make_legend\n",
    "\n",
    "\n",
    "munich_dortmund_time_series = dict()\n",
    "\n",
    "features, samples = accumulate(munich_to_dortmund.filename, TimeSeriesAccumulator(), RandomProbeSampler())\n",
    "munich_dortmund_time_series[munich_to_dortmund] = features.as_numpy_array()"
   ]
  },
  {
   "cell_type": "code",
   "execution_count": null,
   "metadata": {},
   "outputs": [],
   "source": [
    "TIME_INTERVAL = 120\n",
    "\n",
    "timestamps = munich_dortmund_time_series[munich_to_dortmund][:]['timestamp']\n",
    "xs, ys = frequency_count(timestamps, TIME_INTERVAL)\n",
    "plot = (xs, ys, make_legend(munich_to_dortmund))\n",
    "\n",
    "plot_line_chart([plot], x_label='time (s)', y_label='number of probes per {}s'.format(TIME_INTERVAL))"
   ]
  },
  {
   "cell_type": "markdown",
   "metadata": {},
   "source": [
    "#### Observations\n",
    "Todo"
   ]
  },
  {
   "cell_type": "markdown",
   "metadata": {},
   "source": [
    "## 3.2 Inter-Contact Times of Mac Addresses"
   ]
  },
  {
   "cell_type": "code",
   "execution_count": null,
   "metadata": {
    "pycharm": {
     "is_executing": false,
     "name": "#%%\n"
    }
   },
   "outputs": [],
   "source": [
    "from collections import defaultdict\n",
    "\n",
    "\n",
    "def compute_inter_contact_times(probes):\n",
    "    min_max_timestamps = defaultdict(tuple)  # mac -> min, max timestamp\n",
    "    for probe in probes:\n",
    "        current_min_max = min_max_timestamps[probe['mac']]\n",
    "        min_timestamp = min([*current_min_max, probe['timestamp']])\n",
    "        max_timestamp = max([*current_min_max, probe['timestamp']])\n",
    "        min_max_timestamps[probe['mac']] = min_timestamp, max_timestamp\n",
    "    return sorted(max_timestamp - min_timestamp for min_timestamp, max_timestamp in min_max_timestamps.values())\n",
    "\n",
    "def compute_cdf(values):\n",
    "    total = len(values)\n",
    "    accumulator = 0\n",
    "    ys, xs = [], []\n",
    "    current_value = None\n",
    "    for value in values:\n",
    "        if current_value != value and current_value is not None:\n",
    "            ys.append(accumulator)\n",
    "            xs.append(current_value)\n",
    "        current_value = value\n",
    "        accumulator += 1 / total\n",
    "    return xs, ys"
   ]
  },
  {
   "cell_type": "code",
   "execution_count": null,
   "metadata": {
    "pycharm": {
     "is_executing": false,
     "name": "#%%\n"
    }
   },
   "outputs": [],
   "source": [
    "plots = []\n",
    "\n",
    "# Route from Kaufering to Garching Forschungszentrum\n",
    "for commute in commutes:\n",
    "    inter_contact_times = compute_inter_contact_times(commute_time_series[commute])\n",
    "    xs, ys = compute_cdf(inter_contact_times)\n",
    "    plots.append((xs, ys, make_legend(commute)))\n",
    "\n",
    "# TODO: Round Trip Routes of U2 and U6\n",
    "\n",
    "# Route from Munich Central Station to Dortmund Central Station\n",
    "inter_contact_times = compute_inter_contact_times(munich_dortmund_time_series[munich_to_dortmund])\n",
    "xs, ys = compute_cdf(inter_contact_times)\n",
    "plots.append((xs, ys, make_legend(munich_to_dortmund)))\n",
    "\n",
    "# Plot all\n",
    "plot_line_chart(plots, x_label='time (s)', y_label='per cent', x_scale='log')"
   ]
  },
  {
   "cell_type": "markdown",
   "metadata": {
    "pycharm": {
     "name": "#%% md\n"
    }
   },
   "source": [
    "#### Observations\n",
    "- Almost 90% of MAC addresses are seen for less than 0.1 seconds.\n",
    " - Probably due to MAC address randomization\n",
    "- The phone carried by the conductor of the measurement does not perform MAC address randomization. "
   ]
  },
  {
   "cell_type": "markdown",
   "metadata": {},
   "source": [
    "## 3.3 Vendors"
   ]
  },
  {
   "cell_type": "code",
   "execution_count": null,
   "metadata": {
    "pycharm": {
     "is_executing": false,
     "name": "#%%\n"
    }
   },
   "outputs": [],
   "source": [
    "!wget http://standards-oui.ieee.org/oui/oui.csv"
   ]
  },
  {
   "cell_type": "code",
   "execution_count": null,
   "metadata": {
    "pycharm": {
     "is_executing": false,
     "name": "#%%\n"
    }
   },
   "outputs": [],
   "source": [
    "import csv\n",
    "\n",
    "\n",
    "with open('oui.csv', 'r') as file:\n",
    "    reader = csv.reader(file)\n",
    "    header = next(reader)\n",
    "    vendors = {bytes.fromhex(row[1]): row[2] for row in reader}\n",
    "\n",
    "\n",
    "def lookup_vendor(mac):\n",
    "    return vendors.get(mac[:3], '<randomized>')"
   ]
  },
  {
   "cell_type": "code",
   "execution_count": null,
   "metadata": {
    "pycharm": {
     "is_executing": false,
     "name": "#%%\n"
    }
   },
   "outputs": [],
   "source": [
    "def vendor_frequency_count(probes, time_interval, top=10):\n",
    "    total = Counter(lookup_vendor(mac) for mac in macs)\n",
    "    ranks = {vendor: index for index, (vendor, _) in enumerate(total.most_common(top))}\n",
    "    \n",
    "    timestamps = probes[:]['timestamp']\n",
    "    number_of_intervals = math.ceil(duration(timestamps) / time_interval)\n",
    "    counts = np.zeros((top + 1, number_of_intervals))\n",
    "    min_timestamp = np.amin(timestamps)\n",
    "    for probe in probes:\n",
    "        vendor = lookup_vendor(probe['mac'])\n",
    "        rank = ranks.get(vendor, top)\n",
    "        rel_timestamp = probe['timestamp'] - min_timestamp\n",
    "        counts[rank, math.floor(rel_timestamp / time_interval)] += 1\n",
    "    time = np.arange(0, number_of_intervals * time_interval, time_interval)\n",
    "    return time, counts, [*ranks.keys(), '<other>']\n",
    "\n",
    "\n",
    "def vendor_distribution(*args, **kwargs):\n",
    "    time, counts, labels = vendor_frequency_count(*args, **kwargs)\n",
    "    return time, counts / np.sum(counts, axis=0), labels"
   ]
  },
  {
   "cell_type": "code",
   "execution_count": null,
   "metadata": {
    "pycharm": {
     "is_executing": false,
     "name": "#%%\n"
    }
   },
   "outputs": [],
   "source": [
    "def plot_stack_plot(data, x_label=None, y_label=None, title=None):\n",
    "    plt.figure(figsize=(18, 6))\n",
    "    xs, yss, labels = data\n",
    "    plt.stackplot(xs, yss, labels=labels)\n",
    "    plt.xlabel(x_label)\n",
    "    plt.ylabel(y_label)\n",
    "    plt.title(title)\n",
    "    plt.legend()\n",
    "    "
   ]
  },
  {
   "cell_type": "markdown",
   "metadata": {},
   "source": [
    "### Route from Kaufering to Garching Forschungszentrum"
   ]
  },
  {
   "cell_type": "code",
   "execution_count": null,
   "metadata": {
    "pycharm": {
     "name": "#%%\n"
    }
   },
   "outputs": [],
   "source": [
    "from collections import Counter\n",
    "# from tabulate import tabulate\n",
    "\n",
    "\n",
    "for commute in commutes:\n",
    "    macs = commute_time_series[commute][:]['mac']\n",
    "    counter = Counter(lookup_vendor(mac) for mac in macs)\n",
    "#     print(make_legend(commute))\n",
    "#     print(tabulate(counter.most_common(10), headers=['vendor', 'count']))\n",
    "#     print('\\n\\n')"
   ]
  },
  {
   "cell_type": "code",
   "execution_count": null,
   "metadata": {
    "pycharm": {
     "is_executing": false,
     "name": "#%%\n"
    }
   },
   "outputs": [],
   "source": [
    "for commute in commutes:\n",
    "    plot_stack_plot(vendor_distribution(commute_time_series[commute], TIME_INTERVAL, top=10), \n",
    "                    x_label='time (s)', y_label='percentage of probes per {}s'.format(TIME_INTERVAL), \n",
    "                    title=make_legend(commute))"
   ]
  },
  {
   "cell_type": "markdown",
   "metadata": {
    "pycharm": {
     "name": "#%% md\n"
    }
   },
   "source": [
    "#### Observations\n",
    "- The majority of MAC addresses is randomized.\n",
    "- The Raspberry Pi is sending probe requests as well.\n",
    "- The conductor of the measurements owns a OnePlus phone."
   ]
  },
  {
   "cell_type": "markdown",
   "metadata": {},
   "source": [
    "### Round Trip Routes of U2 and U6\n",
    "\n",
    "TODO"
   ]
  },
  {
   "cell_type": "markdown",
   "metadata": {},
   "source": [
    "### Route from Munich Central Station to Dortmund Central Station"
   ]
  },
  {
   "cell_type": "code",
   "execution_count": null,
   "metadata": {},
   "outputs": [],
   "source": [
    "from collections import Counter\n",
    "# from tabulate import tabulate\n",
    "\n",
    "\n",
    "macs = munich_dortmund_time_series[munich_to_dortmund][:]['mac']\n",
    "counter = Counter(lookup_vendor(mac) for mac in macs)\n",
    "#     print(make_legend(munich_to_dortmund))\n",
    "#     print(tabulate(counter.most_common(10), headers=['vendor', 'count']))\n",
    "#     print('\\n\\n')"
   ]
  },
  {
   "cell_type": "code",
   "execution_count": null,
   "metadata": {},
   "outputs": [],
   "source": [
    "plot_stack_plot(vendor_distribution(munich_dortmund_time_series[munich_to_dortmund], TIME_INTERVAL, top=10),\n",
    "                x_label='time (s)', y_label='percentage of probes per {}s'.format(TIME_INTERVAL),\n",
    "                title=make_legend(munich_to_dortmund))"
   ]
  },
  {
   "cell_type": "markdown",
   "metadata": {},
   "source": [
    "#### Observations\n",
    "Todo"
   ]
  },
  {
   "cell_type": "code",
   "execution_count": null,
   "metadata": {},
   "outputs": [],
   "source": []
  }
 ],
 "metadata": {
  "kernelspec": {
   "display_name": "Python 3",
   "language": "python",
   "name": "python3"
  },
  "language_info": {
   "codemirror_mode": {
    "name": "ipython",
    "version": 3
   },
   "file_extension": ".py",
   "mimetype": "text/x-python",
   "name": "python",
   "nbconvert_exporter": "python",
   "pygments_lexer": "ipython3",
   "version": "3.7.4"
  },
  "pycharm": {
   "stem_cell": {
    "cell_type": "raw",
    "metadata": {
     "collapsed": false
    },
    "source": []
   }
  }
 },
 "nbformat": 4,
 "nbformat_minor": 2
}
