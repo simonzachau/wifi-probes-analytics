{
 "cells": [
  {
   "cell_type": "code",
   "execution_count": 1,
   "metadata": {
    "pycharm": {
     "is_executing": false
    },
    "scrolled": true
   },
   "outputs": [
    {
     "name": "stdout",
     "output_type": "stream",
     "text": [
      "Requirement already satisfied: numpy in /opt/miniconda3/lib/python3.7/site-packages (1.18.1)\n",
      "Requirement already satisfied: matplotlib in /opt/miniconda3/lib/python3.7/site-packages (3.1.3)\n",
      "Requirement already satisfied: scapy[basic] in /opt/miniconda3/lib/python3.7/site-packages (2.4.3)\n",
      "Requirement already satisfied: tqdm in /opt/miniconda3/lib/python3.7/site-packages (4.42.1)\n",
      "Requirement already satisfied: pyparsing!=2.0.4,!=2.1.2,!=2.1.6,>=2.0.1 in /opt/miniconda3/lib/python3.7/site-packages (from matplotlib) (2.4.6)\n",
      "Requirement already satisfied: cycler>=0.10 in /opt/miniconda3/lib/python3.7/site-packages (from matplotlib) (0.10.0)\n",
      "Requirement already satisfied: python-dateutil>=2.1 in /opt/miniconda3/lib/python3.7/site-packages (from matplotlib) (2.8.1)\n",
      "Requirement already satisfied: kiwisolver>=1.0.1 in /opt/miniconda3/lib/python3.7/site-packages (from matplotlib) (1.1.0)\n",
      "Requirement already satisfied: ipython; extra == \"basic\" in /opt/miniconda3/lib/python3.7/site-packages (from scapy[basic]) (7.10.2)\n",
      "Requirement already satisfied: six in /opt/miniconda3/lib/python3.7/site-packages (from cycler>=0.10->matplotlib) (1.12.0)\n",
      "Requirement already satisfied: setuptools in /opt/miniconda3/lib/python3.7/site-packages (from kiwisolver>=1.0.1->matplotlib) (41.4.0)\n",
      "Requirement already satisfied: traitlets>=4.2 in /opt/miniconda3/lib/python3.7/site-packages (from ipython; extra == \"basic\"->scapy[basic]) (4.3.3)\n",
      "Requirement already satisfied: jedi>=0.10 in /opt/miniconda3/lib/python3.7/site-packages (from ipython; extra == \"basic\"->scapy[basic]) (0.15.1)\n",
      "Requirement already satisfied: prompt-toolkit!=3.0.0,!=3.0.1,<3.1.0,>=2.0.0 in /opt/miniconda3/lib/python3.7/site-packages (from ipython; extra == \"basic\"->scapy[basic]) (3.0.2)\n",
      "Requirement already satisfied: pexpect; sys_platform != \"win32\" in /opt/miniconda3/lib/python3.7/site-packages (from ipython; extra == \"basic\"->scapy[basic]) (4.7.0)\n",
      "Requirement already satisfied: pygments in /opt/miniconda3/lib/python3.7/site-packages (from ipython; extra == \"basic\"->scapy[basic]) (2.5.2)\n",
      "Requirement already satisfied: decorator in /opt/miniconda3/lib/python3.7/site-packages (from ipython; extra == \"basic\"->scapy[basic]) (4.4.1)\n",
      "Requirement already satisfied: pickleshare in /opt/miniconda3/lib/python3.7/site-packages (from ipython; extra == \"basic\"->scapy[basic]) (0.7.5)\n",
      "Requirement already satisfied: appnope; sys_platform == \"darwin\" in /opt/miniconda3/lib/python3.7/site-packages (from ipython; extra == \"basic\"->scapy[basic]) (0.1.0)\n",
      "Requirement already satisfied: backcall in /opt/miniconda3/lib/python3.7/site-packages (from ipython; extra == \"basic\"->scapy[basic]) (0.1.0)\n",
      "Requirement already satisfied: ipython-genutils in /opt/miniconda3/lib/python3.7/site-packages (from traitlets>=4.2->ipython; extra == \"basic\"->scapy[basic]) (0.2.0)\n",
      "Requirement already satisfied: parso>=0.5.0 in /opt/miniconda3/lib/python3.7/site-packages (from jedi>=0.10->ipython; extra == \"basic\"->scapy[basic]) (0.5.2)\n",
      "Requirement already satisfied: wcwidth in /opt/miniconda3/lib/python3.7/site-packages (from prompt-toolkit!=3.0.0,!=3.0.1,<3.1.0,>=2.0.0->ipython; extra == \"basic\"->scapy[basic]) (0.1.7)\n",
      "Requirement already satisfied: ptyprocess>=0.5 in /opt/miniconda3/lib/python3.7/site-packages (from pexpect; sys_platform != \"win32\"->ipython; extra == \"basic\"->scapy[basic]) (0.6.0)\n",
      "Note: you may need to restart the kernel to use updated packages.\n"
     ]
    }
   ],
   "source": [
    "%pip install numpy matplotlib scapy[basic] tqdm"
   ]
  },
  {
   "cell_type": "code",
   "execution_count": 2,
   "metadata": {
    "pycharm": {
     "is_executing": false,
     "name": "#%%\n"
    }
   },
   "outputs": [],
   "source": [
    "from tqdm import tqdm\n",
    "from scapy.all import PcapReader\n",
    "\n",
    "\n",
    "def accumulate(file, *accumulators):\n",
    "    with PcapReader(file) as reader, tqdm(unit='packets', desc=file) as pbar:\n",
    "        for packet in reader:\n",
    "            for accumulator in accumulators:\n",
    "                accumulator(packet)\n",
    "            pbar.update()\n",
    "        return accumulators"
   ]
  },
  {
   "cell_type": "code",
   "execution_count": 3,
   "metadata": {
    "pycharm": {
     "is_executing": false,
     "name": "#%%\n"
    }
   },
   "outputs": [],
   "source": [
    "import random\n",
    "import numpy as np\n",
    "from scapy.layers.dot11 import Dot11ProbeReq\n",
    "\n",
    "\n",
    "class ProbeReqAcc(list):\n",
    "    TYPE = ('timestamp', np.float), ('mac', np.string_, 17)\n",
    "    \n",
    "    def __call__(self, packet):\n",
    "        if packet.haslayer(Dot11ProbeReq):\n",
    "            values = packet.time, packet.addr2\n",
    "            self.append(values)\n",
    "            \n",
    "    def as_numpy_array(self):\n",
    "        return np.array(self, dtype=np.dtype([*self.TYPE]))\n",
    "\n",
    "\n",
    "class RandProbeReqSampler(list):\n",
    "    PROBABILITY = 0.001\n",
    "    \n",
    "    def __call__(self, packet):\n",
    "        if packet.haslayer(Dot11ProbeReq) and random.random() <= self.PROBABILITY:\n",
    "            self.append(packet)"
   ]
  },
  {
   "cell_type": "code",
   "execution_count": 5,
   "metadata": {
    "pycharm": {
     "is_executing": false,
     "name": "#%%\n"
    }
   },
   "outputs": [
    {
     "name": "stderr",
     "output_type": "stream",
     "text": [
      "../probes/capture-0-a4.pcap: 57279packets [01:50, 516.65packets/s]\n",
      "../probes/capture-1-a4.pcap: 67268packets [02:15, 495.47packets/s]\n",
      "../probes/capture-2-a4.pcap: 59223packets [01:57, 503.44packets/s]\n"
     ]
    }
   ],
   "source": [
    "commute_16122019, commute_16122019_samples = accumulate('../probes/capture-0-a4.pcap', ProbeReqAcc(), RandProbeReqSampler())\n",
    "commute_17122019, commute_17122019_samples = accumulate('../probes/capture-1-a4.pcap', ProbeReqAcc(), RandProbeReqSampler())\n",
    "commute_18122019, commute_18122019_samples = accumulate('../probes/capture-2-a4.pcap', ProbeReqAcc(), RandProbeReqSampler())"
   ]
  },
  {
   "cell_type": "code",
   "execution_count": 7,
   "metadata": {
    "pycharm": {
     "is_executing": false
    }
   },
   "outputs": [],
   "source": [
    "def duration(data):\n",
    "    timestamps = data[:]['timestamp']\n",
    "    return np.amax(timestamps) - np.amin(timestamps)\n",
    "\n",
    "\n",
    "durations = {'commute_16122019': duration(commute_16122019.as_numpy_array()),\n",
    "             'commute_17122019': duration(commute_17122019.as_numpy_array()),\n",
    "             'commute_18122019': duration(commute_18122019.as_numpy_array())\n",
    "            }"
   ]
  },
  {
   "cell_type": "code",
   "execution_count": 29,
   "metadata": {},
   "outputs": [
    {
     "data": {
      "image/png": "[encoded data removed]",
      "text/plain": [
       "<Figure size 432x288 with 1 Axes>"
      ]
     },
     "metadata": {
      "needs_background": "light"
     },
     "output_type": "display_data"
    }
   ],
   "source": [
    "%matplotlib inline\n",
    "import math\n",
    "import matplotlib\n",
    "import matplotlib.pyplot as plt\n",
    "    \n",
    "def plot_packets_per_time_interval(commute):\n",
    "    sampling_interval = 100\n",
    "\n",
    "    number_of_buckets = math.ceil(duration(commute.as_numpy_array()) / sampling_interval)\n",
    "\n",
    "    result = np.zeros(number_of_buckets)\n",
    "    timestamps = commute.as_numpy_array()[:]['timestamp']\n",
    "    timestamp_min = np.amin(timestamps)\n",
    "    for timestamp in timestamps:\n",
    "        result[math.floor((timestamp - timestamp_min) / sampling_interval)] += 1\n",
    "\n",
    "    x_axis = np.arange(0, (number_of_buckets) * sampling_interval, sampling_interval)\n",
    "\n",
    "    plt.plot(x_axis, result)\n",
    "    \n",
    "plot_packets_per_time_interval(commute_16122019)\n",
    "plot_packets_per_time_interval(commute_17122019)\n",
    "plot_packets_per_time_interval(commute_18122019)"
   ]
  },
  {
   "cell_type": "code",
   "execution_count": 15,
   "metadata": {
    "pycharm": {
     "is_executing": false,
     "name": "#%%\n"
    }
   },
   "outputs": [
    {
     "name": "stdout",
     "output_type": "stream",
     "text": [
      "###[ RadioTap dummy ]### \n",
      "  version   = 0\n",
      "  pad       = 0\n",
      "  len       = 18\n",
      "  present   = Flags+Rate+Channel+dBm_AntSignal+Antenna+RXFlags\n",
      "  Flags     = \n",
      "  Rate      = 11\n",
      "  ChannelFrequency= 2462\n",
      "  ChannelFlags= CCK+2GHz\n",
      "  dBm_AntSignal= -56dBm\n",
      "  Antenna   = 1\n",
      "  RXFlags   = \n",
      "  notdecoded= ''\n",
      "###[ 802.11 ]### \n",
      "     subtype   = 4\n",
      "     type      = Management\n",
      "     proto     = 0\n",
      "     FCfield   = \n",
      "     ID        = 0\n",
      "     addr1     = ff:ff:ff:ff:ff:ff\n",
      "     addr2     = 66:3f:7f:e8:39:1b\n",
      "     addr3     = ff:ff:ff:ff:ff:ff\n",
      "     SC        = 6480\n",
      "###[ 802.11 Probe Request ]### \n",
      "###[ 802.11 Information Element ]### \n",
      "           ID        = SSID\n",
      "           len       = 0\n",
      "           info      = ''\n",
      "###[ 802.11 Rates ]### \n",
      "           ID        = 1\n",
      "           len       = 4\n",
      "           rates     = [0x2, 0x4, 0xb, 0x16]\n",
      "###[ 802.11 Information Element ]### \n",
      "           ID        = ESRates\n",
      "           len       = 8\n",
      "           info      = '\\x0c\\x12\\x18$0H`l'\n",
      "###[ 802.11 Information Element ]### \n",
      "           ID        = DSset\n",
      "           len       = 1\n",
      "           info      = '\\x0b'\n",
      "###[ 802.11 Information Element ]### \n",
      "           ID        = HTCapabilities\n",
      "           len       = 26\n",
      "           info      = '-\\x01\\x13\\xff\\x00\\x00\\x00\\x00\\x00\\x00\\x00\\x00\\x00\\x00\\x00\\x00\\x00\\x00\\x00\\x00\\x00\\x00\\x00\\x00\\x00\\x00'\n",
      "###[ 802.11 Information Element ]### \n",
      "           ID        = ExtendendCapatibilities\n",
      "           len       = 9\n",
      "           info      = '\\x04\\x00\\n\\x82\\x01\\x00\\x00@\\x80'\n",
      "###[ 802.11 Information Element ]### \n",
      "           ID        = VHTCapabilities\n",
      "           len       = 12\n",
      "           info      = '\\x92q\\x903\\xfe\\xff\\x86\\x01\\xfe\\xff\\x86\\x01'\n",
      "###[ 802.11 Vendor Specific ]### \n",
      "           ID        = 221\n",
      "           len       = 7\n",
      "           oui       = 0x50f2\n",
      "           info      = '\\x08\\x00$\\x00'\n",
      "###[ 802.11 Information Element ]### \n",
      "           ID        = 255\n",
      "           len       = 3\n",
      "           info      = '\\x02\\x00A'\n",
      "###[ 802.11 Information Element ]### \n",
      "           ID        = ExtendendCapatibilities\n",
      "           len       = 5\n",
      "           info      = '\\x00\\x00\\n\\x82\\x01'\n",
      "###[ 802.11 Vendor Specific ]### \n",
      "           ID        = 221\n",
      "           len       = 8\n",
      "           oui       = 0x8cfdf0\n",
      "           info      = '\\x01\\x01\\x02\\x01\\x00'\n",
      "\n"
     ]
    }
   ],
   "source": [
    "commute_16122019_samples[0].show()\n"
   ]
  }
 ],
 "metadata": {
  "kernelspec": {
   "display_name": "Python 3",
   "language": "python",
   "name": "python3"
  },
  "language_info": {
   "codemirror_mode": {
    "name": "ipython",
    "version": 3
   },
   "file_extension": ".py",
   "mimetype": "text/x-python",
   "name": "python",
   "nbconvert_exporter": "python",
   "pygments_lexer": "ipython3",
   "version": "3.7.4"
  },
  "pycharm": {
   "stem_cell": {
    "cell_type": "raw",
    "metadata": {
     "collapsed": false
    },
    "source": []
   }
  }
 },
 "nbformat": 4,
 "nbformat_minor": 2
}
