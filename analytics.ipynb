{
 "cells": [
  {
   "cell_type": "code",
   "execution_count": 1,
   "metadata": {
    "pycharm": {
     "is_executing": false
    }
   },
   "outputs": [
    {
     "name": "stdout",
     "text": [
      "Requirement already up-to-date: numpy in c:\\users\\felix\\appdata\\local\\programs\\python\\python38\\lib\\site-packages (1.18.1)\n",
      "Requirement already up-to-date: matplotlib in c:\\users\\felix\\appdata\\local\\programs\\python\\python38\\lib\\site-packages (3.1.3)\n",
      "Requirement already up-to-date: pyshark in c:\\users\\felix\\appdata\\local\\programs\\python\\python38\\lib\\site-packages (0.4.2.9)\n",
      "Requirement already up-to-date: nest_asyncio in c:\\users\\felix\\appdata\\local\\programs\\python\\python38\\lib\\site-packages (1.2.3)\n",
      "Requirement already satisfied, skipping upgrade: cycler>=0.10 in c:\\users\\felix\\appdata\\local\\programs\\python\\python38\\lib\\site-packages (from matplotlib) (0.10.0)\n",
      "Requirement already satisfied, skipping upgrade: python-dateutil>=2.1 in c:\\users\\felix\\appdata\\local\\programs\\python\\python38\\lib\\site-packages (from matplotlib) (2.8.1)\n",
      "Requirement already satisfied, skipping upgrade: kiwisolver>=1.0.1 in c:\\users\\felix\\appdata\\local\\programs\\python\\python38\\lib\\site-packages (from matplotlib) (1.1.0)\n",
      "Requirement already satisfied, skipping upgrade: pyparsing!=2.0.4,!=2.1.2,!=2.1.6,>=2.0.1 in c:\\users\\felix\\appdata\\local\\programs\\python\\python38\\lib\\site-packages (from matplotlib) (2.4.6)\n",
      "Requirement already satisfied, skipping upgrade: lxml in c:\\users\\felix\\appdata\\local\\programs\\python\\python38\\lib\\site-packages (from pyshark) (4.5.0)\n",
      "Requirement already satisfied, skipping upgrade: py in c:\\users\\felix\\appdata\\local\\programs\\python\\python38\\lib\\site-packages (from pyshark) (1.8.1)\n",
      "Requirement already satisfied, skipping upgrade: six in c:\\users\\felix\\appdata\\local\\programs\\python\\python38\\lib\\site-packages (from cycler>=0.10->matplotlib) (1.14.0)\n",
      "Requirement already satisfied, skipping upgrade: setuptools in c:\\users\\felix\\appdata\\local\\programs\\python\\python38\\lib\\site-packages (from kiwisolver>=1.0.1->matplotlib) (45.0.0)\n"
     ],
     "output_type": "stream"
    },
    {
     "name": "stderr",
     "text": [
      "WARNING: You are using pip version 19.2.3, however version 20.0.2 is available.\n",
      "You should consider upgrading via the 'python -m pip install --upgrade pip' command.\n"
     ],
     "output_type": "stream"
    }
   ],
   "source": [
    "import sys\n",
    "\n",
    "# extra steps might be required on Mac https://github.com/KimiNewt/pyshark/#mac-os-x\n",
    "!{sys.executable} -m pip install -U numpy matplotlib pyshark nest_asyncio"
   ]
  },
  {
   "cell_type": "code",
   "execution_count": 2,
   "outputs": [],
   "source": [
    "import asyncio\n",
    "import nest_asyncio\n",
    "\n",
    "# patch asyncio to work in notebook to make pyshark work\n",
    "# requires Python 3.8 if using Windows\n",
    "loop = asyncio.DefaultEventLoopPolicy().new_event_loop()\n",
    "nest_asyncio.apply(loop=loop)"
   ],
   "metadata": {
    "collapsed": false,
    "pycharm": {
     "name": "#%%\n",
     "is_executing": false
    }
   }
  },
  {
   "cell_type": "code",
   "execution_count": 3,
   "outputs": [],
   "source": [
    "import pyshark\n",
    "\n",
    "commute_16122019 = pyshark.FileCapture('capture-0-a4.pcap', eventloop=loop)\n",
    "commute_17122019 = pyshark.FileCapture('capture-1-a4.pcap', eventloop=loop)\n",
    "commute_18122019 = pyshark.FileCapture('capture-2-a4.pcap', eventloop=loop)\n",
    "commute_13012020 = pyshark.FileCapture('capture-5-a4.pcap', eventloop=loop)\n",
    "commute_14012020 = pyshark.FileCapture('capture-6-a4.pcap', eventloop=loop)\n",
    "commute_20012020 = pyshark.FileCapture('capture-7-a4.pcap', eventloop=loop)\n"
   ],
   "metadata": {
    "collapsed": false,
    "pycharm": {
     "name": "#%%\n",
     "is_executing": false
    }
   }
  }
 ],
 "metadata": {
  "kernelspec": {
   "name": "python3",
   "language": "python",
   "display_name": "Python 3"
  },
  "language_info": {
   "codemirror_mode": {
    "name": "ipython",
    "version": 3
   },
   "file_extension": ".py",
   "mimetype": "text/x-python",
   "name": "python",
   "nbconvert_exporter": "python",
   "pygments_lexer": "ipython3",
   "version": "3.7.4"
  },
  "pycharm": {
   "stem_cell": {
    "cell_type": "raw",
    "source": [],
    "metadata": {
     "collapsed": false
    }
   }
  }
 },
 "nbformat": 4,
 "nbformat_minor": 2
}