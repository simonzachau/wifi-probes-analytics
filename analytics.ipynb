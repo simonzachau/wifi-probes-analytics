{
 "cells": [
  {
   "cell_type": "code",
   "execution_count": 1,
   "metadata": {
    "pycharm": {
     "is_executing": false
    }
   },
   "outputs": [
    {
     "name": "stdout",
     "text": [
      "Requirement already up-to-date: numpy in c:\\users\\felix\\appdata\\local\\programs\\python\\python38\\lib\\site-packages (1.18.1)\n",
      "Requirement already up-to-date: matplotlib in c:\\users\\felix\\appdata\\local\\programs\\python\\python38\\lib\\site-packages (3.1.3)\n",
      "Requirement already up-to-date: scapy[basic] in c:\\users\\felix\\appdata\\local\\programs\\python\\python38\\lib\\site-packages (2.4.3)\n",
      "Requirement already up-to-date: tqdm in c:\\users\\felix\\appdata\\local\\programs\\python\\python38\\lib\\site-packages (4.42.1)\n",
      "Requirement already satisfied, skipping upgrade: pyparsing!=2.0.4,!=2.1.2,!=2.1.6,>=2.0.1 in c:\\users\\felix\\appdata\\local\\programs\\python\\python38\\lib\\site-packages (from matplotlib) (2.4.6)\n",
      "Requirement already satisfied, skipping upgrade: cycler>=0.10 in c:\\users\\felix\\appdata\\local\\programs\\python\\python38\\lib\\site-packages (from matplotlib) (0.10.0)\n",
      "Requirement already satisfied, skipping upgrade: kiwisolver>=1.0.1 in c:\\users\\felix\\appdata\\local\\programs\\python\\python38\\lib\\site-packages (from matplotlib) (1.1.0)\n",
      "Requirement already satisfied, skipping upgrade: python-dateutil>=2.1 in c:\\users\\felix\\appdata\\local\\programs\\python\\python38\\lib\\site-packages (from matplotlib) (2.8.1)\n",
      "Requirement already satisfied, skipping upgrade: ipython in c:\\users\\felix\\appdata\\local\\programs\\python\\python38\\lib\\site-packages (from scapy[basic]) (7.12.0)\n",
      "Requirement already satisfied, skipping upgrade: six in c:\\users\\felix\\appdata\\local\\programs\\python\\python38\\lib\\site-packages (from cycler>=0.10->matplotlib) (1.14.0)\n",
      "Requirement already satisfied, skipping upgrade: setuptools in c:\\users\\felix\\appdata\\local\\programs\\python\\python38\\lib\\site-packages (from kiwisolver>=1.0.1->matplotlib) (45.0.0)\n",
      "Requirement already satisfied, skipping upgrade: decorator in c:\\users\\felix\\appdata\\local\\programs\\python\\python38\\lib\\site-packages (from ipython->scapy[basic]) (4.4.1)\n",
      "Requirement already satisfied, skipping upgrade: traitlets>=4.2 in c:\\users\\felix\\appdata\\local\\programs\\python\\python38\\lib\\site-packages (from ipython->scapy[basic]) (4.3.3)\n",
      "Requirement already satisfied, skipping upgrade: prompt-toolkit!=3.0.0,!=3.0.1,<3.1.0,>=2.0.0 in c:\\users\\felix\\appdata\\local\\programs\\python\\python38\\lib\\site-packages (from ipython->scapy[basic]) (3.0.3)\n",
      "Requirement already satisfied, skipping upgrade: colorama; sys_platform == \"win32\" in c:\\users\\felix\\appdata\\local\\programs\\python\\python38\\lib\\site-packages (from ipython->scapy[basic]) (0.4.3)\n",
      "Requirement already satisfied, skipping upgrade: pickleshare in c:\\users\\felix\\appdata\\local\\programs\\python\\python38\\lib\\site-packages (from ipython->scapy[basic]) (0.7.5)\n",
      "Requirement already satisfied, skipping upgrade: pygments in c:\\users\\felix\\appdata\\local\\programs\\python\\python38\\lib\\site-packages (from ipython->scapy[basic]) (2.5.2)\n",
      "Requirement already satisfied, skipping upgrade: backcall in c:\\users\\felix\\appdata\\local\\programs\\python\\python38\\lib\\site-packages (from ipython->scapy[basic]) (0.1.0)\n",
      "Requirement already satisfied, skipping upgrade: jedi>=0.10 in c:\\users\\felix\\appdata\\local\\programs\\python\\python38\\lib\\site-packages (from ipython->scapy[basic]) (0.16.0)\n",
      "Requirement already satisfied, skipping upgrade: ipython-genutils in c:\\users\\felix\\appdata\\local\\programs\\python\\python38\\lib\\site-packages (from traitlets>=4.2->ipython->scapy[basic]) (0.2.0)\n",
      "Requirement already satisfied, skipping upgrade: wcwidth in c:\\users\\felix\\appdata\\local\\programs\\python\\python38\\lib\\site-packages (from prompt-toolkit!=3.0.0,!=3.0.1,<3.1.0,>=2.0.0->ipython->scapy[basic]) (0.1.8)\n",
      "Requirement already satisfied, skipping upgrade: parso>=0.5.2 in c:\\users\\felix\\appdata\\local\\programs\\python\\python38\\lib\\site-packages (from jedi>=0.10->ipython->scapy[basic]) (0.6.1)\n"
     ],
     "output_type": "stream"
    },
    {
     "name": "stderr",
     "text": [
      "WARNING: You are using pip version 19.2.3, however version 20.0.2 is available.\n",
      "You should consider upgrading via the 'python -m pip install --upgrade pip' command.\n"
     ],
     "output_type": "stream"
    }
   ],
   "source": [
    "import sys\n",
    "!{sys.executable} -m pip install -U numpy matplotlib scapy[basic] tqdm"
   ]
  },
  {
   "cell_type": "code",
   "execution_count": 2,
   "outputs": [],
   "source": [
    "import sys\n",
    "import threading\n",
    "from scapy.all import rdpcap\n",
    "from tqdm.notebook import tqdm\n",
    "\n",
    "sys.setrecursionlimit(100000)\n",
    "threading.stack_size(200000000)\n",
    "\n",
    "def load_captures(files):\n",
    "    result = []\n",
    "    \n",
    "    for file in tqdm(files):\n",
    "        # use threading to increase stack size\n",
    "        thread = threading.Thread(target=lambda: result.append(rdpcap(file)))\n",
    "        thread.start()\n",
    "        thread.join()\n",
    "        \n",
    "    return result"
   ],
   "metadata": {
    "collapsed": false,
    "pycharm": {
     "name": "#%%\n",
     "is_executing": false
    }
   }
  },
  {
   "cell_type": "code",
   "execution_count": 3,
   "metadata": {
    "pycharm": {
     "is_executing": false,
     "name": "#%%\n"
    }
   },
   "outputs": [
    {
     "data": {
      "text/plain": "HBox(children=(FloatProgress(value=0.0, max=6.0), HTML(value='')))",
      "application/vnd.jupyter.widget-view+json": {
       "version_major": 2,
       "version_minor": 0,
       "model_id": "07bb14461ae44e018077e7be743cdfdf"
      }
     },
     "metadata": {},
     "output_type": "display_data"
    },
    {
     "name": "stdout",
     "text": [
      "\n"
     ],
     "output_type": "stream"
    }
   ],
   "source": [
    "files = ('capture-0-a4.pcap', \n",
    "         'capture-1-a4.pcap', \n",
    "         'capture-2-a4.pcap')\n",
    "\n",
    "(commute_16122019, \n",
    " commute_17122019,\n",
    " commute_18122019) = load_captures(files)"
   ]
  },
  {
   "cell_type": "code",
   "execution_count": 4,
   "metadata": {
    "pycharm": {
     "is_executing": false,
     "name": "#%%\n"
    }
   },
   "outputs": [],
   "source": [
    "from scapy.all import Dot11\n",
    "\n",
    "timestamps = []\n",
    "\n",
    "for pkt in commute_16122019:\n",
    "    if pkt.haslayer(Dot11) and pkt.type == 0 and pkt.subtype == 4:\n",
    "        timestamps.append(pkt.time)"
   ]
  }
 ],
 "metadata": {
  "kernelspec": {
   "display_name": "Python 3",
   "language": "python",
   "name": "python3"
  },
  "language_info": {
   "codemirror_mode": {
    "name": "ipython",
    "version": 3
   },
   "file_extension": ".py",
   "mimetype": "text/x-python",
   "name": "python",
   "nbconvert_exporter": "python",
   "pygments_lexer": "ipython3",
   "version": "3.8.1"
  },
  "pycharm": {
   "stem_cell": {
    "cell_type": "raw",
    "source": [],
    "metadata": {
     "collapsed": false
    }
   }
  }
 },
 "nbformat": 4,
 "nbformat_minor": 2
}