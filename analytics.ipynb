{
 "cells": [
  {
   "cell_type": "code",
   "execution_count": null,
   "metadata": {
    "pycharm": {
     "is_executing": false
    }
   },
   "outputs": [],
   "source": [
    "import sys\n",
    "!{sys.executable} -m pip install -U numpy matplotlib scapy[basic] tqdm"
   ]
  },
  {
   "cell_type": "code",
   "execution_count": null,
   "metadata": {
    "pycharm": {
     "is_executing": false,
     "name": "#%%\n"
    }
   },
   "outputs": [],
   "source": [
    "import sys\n",
    "import threading\n",
    "from scapy.all import rdpcap\n",
    "from tqdm.notebook import tqdm\n",
    "\n",
    "try:  # necessary on Windows, other systems pass\n",
    "    sys.setrecursionlimit(100000)\n",
    "    threading.stack_size(200000000)\n",
    "except:\n",
    "    pass\n",
    "\n",
    "def load_captures(files):\n",
    "    result = []\n",
    "    \n",
    "    for file in tqdm(files):\n",
    "        # use threading to increase stack size\n",
    "        thread = threading.Thread(target=lambda: result.append(rdpcap(file)))\n",
    "        thread.start()\n",
    "        thread.join()\n",
    "        \n",
    "    return result"
   ]
  },
  {
   "cell_type": "code",
   "execution_count": null,
   "metadata": {
    "pycharm": {
     "is_executing": false,
     "name": "#%%\n"
    }
   },
   "outputs": [],
   "source": [
    "files = ('../probes/capture-0-a4.pcap', \n",
    "         '../probes/capture-1-a4.pcap', \n",
    "         '../probes/capture-2-a4.pcap')\n",
    "\n",
    "(commute_16122019, \n",
    " commute_17122019,\n",
    " commute_18122019) = load_captures(files)"
   ]
  },
  {
   "cell_type": "code",
   "execution_count": null,
   "metadata": {
    "pycharm": {
     "is_executing": false,
     "name": "#%%\n"
    }
   },
   "outputs": [],
   "source": [
    "from scapy.all import Dot11\n",
    "\n",
    "timestamps = []\n",
    "\n",
    "for pkt in commute_16122019:\n",
    "    if pkt.haslayer(Dot11) and pkt.type == 0 and pkt.subtype == 4:\n",
    "        timestamps.append(pkt.time)"
   ]
  }
 ],
 "metadata": {
  "kernelspec": {
   "display_name": "Python 3",
   "language": "python",
   "name": "python3"
  },
  "language_info": {
   "codemirror_mode": {
    "name": "ipython",
    "version": 3
   },
   "file_extension": ".py",
   "mimetype": "text/x-python",
   "name": "python",
   "nbconvert_exporter": "python",
   "pygments_lexer": "ipython3",
   "version": "3.7.4"
  },
  "pycharm": {
   "stem_cell": {
    "cell_type": "raw",
    "metadata": {
     "collapsed": false
    },
    "source": []
   }
  }
 },
 "nbformat": 4,
 "nbformat_minor": 2
}
